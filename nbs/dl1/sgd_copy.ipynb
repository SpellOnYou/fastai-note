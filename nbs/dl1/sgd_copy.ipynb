{
  "nbformat": 4,
  "nbformat_minor": 0,
  "metadata": {
    "colab": {
      "name": "sgd_copy.ipynb",
      "provenance": []
    },
    "kernelspec": {
      "name": "python3",
      "display_name": "Python 3"
    }
  },
  "cells": [
    {
      "cell_type": "code",
      "metadata": {
        "id": "AwLsGi93ZM12",
        "colab_type": "code",
        "colab": {}
      },
      "source": [
        "%matplotlib inline\n",
        "from fastai.basics import *"
      ],
      "execution_count": 0,
      "outputs": []
    },
    {
      "cell_type": "code",
      "metadata": {
        "id": "ORNMfILEZjzb",
        "colab_type": "code",
        "colab": {
          "base_uri": "https://localhost:8080/",
          "height": 104
        },
        "outputId": "c3891f48-5e42-4b02-fa9a-9d29b2ab4d9d"
      },
      "source": [
        "n=100\n",
        "x =torch.ones(n, 2)\n",
        "x[:,0].uniform_(-1, 1)\n",
        "x[:5]"
      ],
      "execution_count": 9,
      "outputs": [
        {
          "output_type": "execute_result",
          "data": {
            "text/plain": [
              "tensor([[-0.9424,  1.0000],\n",
              "        [-0.5966,  1.0000],\n",
              "        [-0.9858,  1.0000],\n",
              "        [ 0.9978,  1.0000],\n",
              "        [-0.3630,  1.0000]])"
            ]
          },
          "metadata": {
            "tags": []
          },
          "execution_count": 9
        }
      ]
    },
    {
      "cell_type": "code",
      "metadata": {
        "id": "Z5qat30eaDOL",
        "colab_type": "code",
        "colab": {
          "base_uri": "https://localhost:8080/",
          "height": 35
        },
        "outputId": "256899c1-20d6-4068-baec-263918cc6793"
      },
      "source": [
        "a = torch.tensor([3., -2]); a.type()"
      ],
      "execution_count": 30,
      "outputs": [
        {
          "output_type": "execute_result",
          "data": {
            "text/plain": [
              "'torch.FloatTensor'"
            ]
          },
          "metadata": {
            "tags": []
          },
          "execution_count": 30
        }
      ]
    },
    {
      "cell_type": "code",
      "metadata": {
        "id": "LC1fgrKpaP8N",
        "colab_type": "code",
        "colab": {
          "base_uri": "https://localhost:8080/",
          "height": 35
        },
        "outputId": "ab2c5198-2478-438c-f91c-e10711a826fd"
      },
      "source": [
        "b = torch.rand(n); b.type()"
      ],
      "execution_count": 29,
      "outputs": [
        {
          "output_type": "execute_result",
          "data": {
            "text/plain": [
              "'torch.FloatTensor'"
            ]
          },
          "metadata": {
            "tags": []
          },
          "execution_count": 29
        }
      ]
    },
    {
      "cell_type": "code",
      "metadata": {
        "id": "mtZ9Z8njavj0",
        "colab_type": "code",
        "colab": {}
      },
      "source": [
        "y=x@a+b"
      ],
      "execution_count": 0,
      "outputs": []
    },
    {
      "cell_type": "code",
      "metadata": {
        "id": "mXQREQ_7ahaj",
        "colab_type": "code",
        "colab": {
          "base_uri": "https://localhost:8080/",
          "height": 282
        },
        "outputId": "d34e0014-f576-4f66-c8f9-d814747f9b6a"
      },
      "source": [
        "plt.scatter(x[:, 0], y)"
      ],
      "execution_count": 33,
      "outputs": [
        {
          "output_type": "execute_result",
          "data": {
            "text/plain": [
              "<matplotlib.collections.PathCollection at 0x7f58a42f3908>"
            ]
          },
          "metadata": {
            "tags": []
          },
          "execution_count": 33
        },
        {
          "output_type": "display_data",
          "data": {
            "image/png": "[encoded data removed]",
            "text/plain": [
              "<Figure size 432x288 with 1 Axes>"
            ]
          },
          "metadata": {
            "tags": []
          }
        }
      ]
    },
    {
      "cell_type": "code",
      "metadata": {
        "id": "7R9OaANVcJDO",
        "colab_type": "code",
        "colab": {}
      },
      "source": [
        "def mse(y, yhat): return ((y-yhat)**2).mean()"
      ],
      "execution_count": 0,
      "outputs": []
    },
    {
      "cell_type": "code",
      "metadata": {
        "id": "ebG80_eXc8Kj",
        "colab_type": "code",
        "colab": {}
      },
      "source": [
        "a = tensor([-1., 1])"
      ],
      "execution_count": 0,
      "outputs": []
    },
    {
      "cell_type": "code",
      "metadata": {
        "id": "JOMPqRKjdCfO",
        "colab_type": "code",
        "colab": {}
      },
      "source": [
        "yhat = x@a"
      ],
      "execution_count": 0,
      "outputs": []
    },
    {
      "cell_type": "code",
      "metadata": {
        "id": "gAUroe0wcaRh",
        "colab_type": "code",
        "colab": {
          "base_uri": "https://localhost:8080/",
          "height": 35
        },
        "outputId": "4f4647ae-f76c-44df-f97f-07786e4a6428"
      },
      "source": [
        "mse(y, yhat)"
      ],
      "execution_count": 47,
      "outputs": [
        {
          "output_type": "execute_result",
          "data": {
            "text/plain": [
              "tensor(11.9346)"
            ]
          },
          "metadata": {
            "tags": []
          },
          "execution_count": 47
        }
      ]
    },
    {
      "cell_type": "markdown",
      "metadata": {
        "id": "FTZbrnTydt1i",
        "colab_type": "text"
      },
      "source": [
        "## Gradient"
      ]
    },
    {
      "cell_type": "code",
      "metadata": {
        "id": "SEiCzNLTdCYN",
        "colab_type": "code",
        "colab": {}
      },
      "source": [
        "a = nn.Parameter(a)"
      ],
      "execution_count": 0,
      "outputs": []
    },
    {
      "cell_type": "code",
      "metadata": {
        "id": "FxyDuqNPdtLv",
        "colab_type": "code",
        "colab": {}
      },
      "source": [
        "def update():\n",
        "    yhat = x@a\n",
        "    loss = mse(y, yhat)\n",
        "    loss.backward()\n",
        "    if t %10 ==0: print(loss)\n",
        "    with torch.no_grad():\n",
        "        a.sub_(lr * a.grad)\n",
        "        a.grad.zero_()"
      ],
      "execution_count": 0,
      "outputs": []
    },
    {
      "cell_type": "code",
      "metadata": {
        "id": "RH6zxZSSeZRP",
        "colab_type": "code",
        "colab": {
          "base_uri": "https://localhost:8080/",
          "height": 190
        },
        "outputId": "9949beb5-1dea-4814-c7d8-8c2d726255e6"
      },
      "source": [
        "lr = 1e-01\n",
        "for t in range(100): update()"
      ],
      "execution_count": 55,
      "outputs": [
        {
          "output_type": "stream",
          "text": [
            "tensor(4.7774, grad_fn=<MeanBackward0>)\n",
            "tensor(0.6879, grad_fn=<MeanBackward0>)\n",
            "tensor(0.2394, grad_fn=<MeanBackward0>)\n",
            "tensor(0.1247, grad_fn=<MeanBackward0>)\n",
            "tensor(0.0953, grad_fn=<MeanBackward0>)\n",
            "tensor(0.0878, grad_fn=<MeanBackward0>)\n",
            "tensor(0.0859, grad_fn=<MeanBackward0>)\n",
            "tensor(0.0854, grad_fn=<MeanBackward0>)\n",
            "tensor(0.0853, grad_fn=<MeanBackward0>)\n",
            "tensor(0.0853, grad_fn=<MeanBackward0>)\n"
          ],
          "name": "stdout"
        }
      ]
    },
    {
      "cell_type": "code",
      "metadata": {
        "id": "8a7cHBpzedrS",
        "colab_type": "code",
        "colab": {
          "base_uri": "https://localhost:8080/",
          "height": 282
        },
        "outputId": "3f0756cb-59b4-465c-bc81-599e4e1d5d9d"
      },
      "source": [
        "plt.scatter(x[:, 0], y)\n",
        "plt.scatter(x[:,0], x@a.detach())"
      ],
      "execution_count": 59,
      "outputs": [
        {
          "output_type": "execute_result",
          "data": {
            "text/plain": [
              "<matplotlib.collections.PathCollection at 0x7f58a01e5128>"
            ]
          },
          "metadata": {
            "tags": []
          },
          "execution_count": 59
        },
        {
          "output_type": "display_data",
          "data": {
            "image/png": "[encoded data removed]",
            "text/plain": [
              "<Figure size 432x288 with 1 Axes>"
            ]
          },
          "metadata": {
            "tags": []
          }
        }
      ]
    }
  ]
}