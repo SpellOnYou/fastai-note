{
  "nbformat": 4,
  "nbformat_minor": 0,
  "metadata": {
    "colab": {
      "name": "Lesson 08 - Examplifying matrix calculus.ipynb",
      "provenance": [],
      "machine_shape": "hm"
    },
    "kernelspec": {
      "name": "python3",
      "display_name": "Python 3"
    },
    "accelerator": "GPU"
  },
  "cells": [
    {
      "cell_type": "markdown",
      "metadata": {
        "colab_type": "text",
        "id": "GcBIn7JaHxqW"
      },
      "source": [
        "- forward\n",
        "\n",
        "$$x_1 = torch.rand(n,m) = x\\_train \\\\\n",
        "w_1 = torch.rand(m,nh); b_1 = torch.rand(n,1) \\\\\n",
        "lin_1\\ =\\ x_1 @ w_1 + b_1 \\\\\n",
        "relu\\ =\\ ReLu(lin_1)) = x_2 \\\\\n",
        "w_2 = torch.rand(nh,1); b_2 = torch.rand(1) \\\\\n",
        "lin_2 = \\ x_2 @ w_2 + b_2$$"
      ]
    },
    {
      "cell_type": "code",
      "metadata": {
        "id": "J31HdWCKH3Nl",
        "colab_type": "code",
        "colab": {}
      },
      "source": [
        "import torch"
      ],
      "execution_count": 0,
      "outputs": []
    },
    {
      "cell_type": "code",
      "metadata": {
        "id": "pamxfD9AKGbO",
        "colab_type": "code",
        "colab": {}
      },
      "source": [
        "def lin(x, w, b): return x@w + b # linear transformation\n",
        "def relu(x): return x.clamp_min(0.) - 0.5 #activation function\n",
        "def mse(output, targ): return (output.squeeze(-1) - targ).pow(2).mean() #loss function"
      ],
      "execution_count": 0,
      "outputs": []
    },
    {
      "cell_type": "code",
      "metadata": {
        "id": "TMJ4tv_dLmZ3",
        "colab_type": "code",
        "colab": {}
      },
      "source": [
        "y_train = torch.rand(50000,1)"
      ],
      "execution_count": 0,
      "outputs": []
    },
    {
      "cell_type": "code",
      "metadata": {
        "id": "iZJ2pvHIJUIY",
        "colab_type": "code",
        "colab": {}
      },
      "source": [
        "x_train= torch.rand(50000, 784)\n",
        "w1 = torch.rand(784, 50)\n",
        "b1 = torch.rand(50)"
      ],
      "execution_count": 0,
      "outputs": []
    },
    {
      "cell_type": "code",
      "metadata": {
        "id": "_4fPvJPeKc2F",
        "colab_type": "code",
        "colab": {}
      },
      "source": [
        "l1 = lin(x_train, w1, b1)"
      ],
      "execution_count": 0,
      "outputs": []
    },
    {
      "cell_type": "code",
      "metadata": {
        "id": "1pe16fUYKqNe",
        "colab_type": "code",
        "colab": {}
      },
      "source": [
        "x2 = relu(l1)\n",
        "w2 = torch.rand(50,1)\n",
        "b2 = torch.rand(1)"
      ],
      "execution_count": 0,
      "outputs": []
    },
    {
      "cell_type": "code",
      "metadata": {
        "id": "D_eckVcUK5AK",
        "colab_type": "code",
        "colab": {}
      },
      "source": [
        "out = lin(x2, w2, b2)"
      ],
      "execution_count": 0,
      "outputs": []
    },
    {
      "cell_type": "code",
      "metadata": {
        "id": "bV2T8yu_LbB-",
        "colab_type": "code",
        "colab": {}
      },
      "source": [
        "loss = mse(out, y_train)"
      ],
      "execution_count": 0,
      "outputs": []
    },
    {
      "cell_type": "markdown",
      "metadata": {
        "id": "nkfj2Qw2MFlO",
        "colab_type": "text"
      },
      "source": [
        "- backward - what happens in backwards process? (examplify)"
      ]
    },
    {
      "cell_type": "markdown",
      "metadata": {
        "id": "l6gUM1RrH3GN",
        "colab_type": "text"
      },
      "source": [
        "- Gradient Descent"
      ]
    },
    {
      "cell_type": "markdown",
      "metadata": {
        "colab_type": "text",
        "id": "LzGgPsvbHwQW"
      },
      "source": [
        "$$\\frac{\\partial}{\\partial\\ out}MSE(out,y\\_train)\\times\\frac{\\partial}{\\partial \\ (x_2, w_2, b_2)}l_2({x_2, w_2, b_2}, out) \\\\ \\times\\frac{\\partial}{\\partial l_1}ReLU(l_1)\\times\\frac{\\partial}{\\partial\\ (x\\_train, w_1, b_1)}l_1(x\\_train, w_1, b_1, out)$$"
      ]
    },
    {
      "cell_type": "markdown",
      "metadata": {
        "id": "1ZleEr2W68YU",
        "colab_type": "text"
      },
      "source": [
        "##### MSE derivative"
      ]
    },
    {
      "cell_type": "code",
      "metadata": {
        "id": "wU-mMS9BRn9w",
        "colab_type": "code",
        "colab": {}
      },
      "source": [
        "out.g=(out.squeeze(-1)-y_train).unsqueeze(-1)\n",
        "out.g.shape"
      ],
      "execution_count": 0,
      "outputs": []
    },
    {
      "cell_type": "markdown",
      "metadata": {
        "colab_type": "text",
        "id": "F4Yv_1ll_UXl"
      },
      "source": [
        "##### linear2 derivative"
      ]
    },
    {
      "cell_type": "code",
      "metadata": {
        "id": "yIld-V8FH3g-",
        "colab_type": "code",
        "colab": {}
      },
      "source": [
        ""
      ],
      "execution_count": 0,
      "outputs": []
    },
    {
      "cell_type": "markdown",
      "metadata": {
        "id": "dfX9SLZG4IFv",
        "colab_type": "text"
      },
      "source": [
        "##### ReLU derivative"
      ]
    },
    {
      "cell_type": "code",
      "metadata": {
        "id": "hJq-1jp3QV4c",
        "colab_type": "code",
        "colab": {}
      },
      "source": [
        ""
      ],
      "execution_count": 0,
      "outputs": []
    },
    {
      "cell_type": "markdown",
      "metadata": {
        "id": "yh_Y_rds4ISh",
        "colab_type": "text"
      },
      "source": [
        "##### Linear1 derivative"
      ]
    },
    {
      "cell_type": "code",
      "metadata": {
        "id": "xz230Z_tH3m7",
        "colab_type": "code",
        "colab": {}
      },
      "source": [
        ""
      ],
      "execution_count": 0,
      "outputs": []
    },
    {
      "cell_type": "code",
      "metadata": {
        "id": "nb5UQZ2CH3tL",
        "colab_type": "code",
        "colab": {}
      },
      "source": [
        ""
      ],
      "execution_count": 0,
      "outputs": []
    }
  ]
}