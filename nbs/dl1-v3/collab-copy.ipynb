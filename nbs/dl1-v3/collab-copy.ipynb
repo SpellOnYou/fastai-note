{
  "nbformat": 4,
  "nbformat_minor": 0,
  "metadata": {
    "colab": {
      "name": "collab with movie lens.ipynb",
      "provenance": [],
      "collapsed_sections": []
    },
    "kernelspec": {
      "name": "python3",
      "display_name": "Python 3"
    }
  },
  "cells": [
    {
      "cell_type": "code",
      "metadata": {
        "id": "CzsnxJnag3RK",
        "colab_type": "code",
        "colab": {}
      },
      "source": [
        "from fastai.collab import *\n",
        "from fastai.tabular import *"
      ],
      "execution_count": 0,
      "outputs": []
    },
    {
      "cell_type": "markdown",
      "metadata": {
        "id": "gvIUgsO8b4A_",
        "colab_type": "text"
      },
      "source": [
        "## test with example data"
      ]
    },
    {
      "cell_type": "code",
      "metadata": {
        "id": "FC0EeNhcjBom",
        "colab_type": "code",
        "colab": {}
      },
      "source": [
        "path = untar_data(URLs.ML_SAMPLE)"
      ],
      "execution_count": 0,
      "outputs": []
    },
    {
      "cell_type": "markdown",
      "metadata": {
        "id": "O1d5iFjmSsLV",
        "colab_type": "text"
      },
      "source": [
        "## Full data - official download link : http://files.grouplens.org/datasets/movielens/ml-100k.zip"
      ]
    },
    {
      "cell_type": "markdown",
      "metadata": {
        "id": "wT2xbHZAj1Gz",
        "colab_type": "text"
      },
      "source": [
        "### data download"
      ]
    },
    {
      "cell_type": "code",
      "metadata": {
        "id": "G-GwNuuQhJKl",
        "colab_type": "code",
        "colab": {}
      },
      "source": [
        "path = Config.data_path()"
      ],
      "execution_count": 0,
      "outputs": []
    },
    {
      "cell_type": "code",
      "metadata": {
        "id": "tk52VwlVgk8-",
        "colab_type": "code",
        "colab": {}
      },
      "source": [
        "import requests\n",
        "r = requests.get(\"http://files.grouplens.org/datasets/movielens/ml-100k.zip\")\n",
        "with open(path/'ml-100k.zip', \"wb\") as f:\n",
        "    for chunk in r.iter_content(chunk_size=128):\n",
        "        f.write(chunk)\n",
        "    "
      ],
      "execution_count": 0,
      "outputs": []
    },
    {
      "cell_type": "code",
      "metadata": {
        "id": "s4FVmdh_jJSH",
        "colab_type": "code",
        "colab": {}
      },
      "source": [
        "!unzip {path/'ml-100k.zip'} -d {path}"
      ],
      "execution_count": 0,
      "outputs": []
    },
    {
      "cell_type": "code",
      "metadata": {
        "id": "Dgx3FkpBjyIO",
        "colab_type": "code",
        "outputId": "d68ab4a5-68e7-44f5-81b6-94112d33cbf0",
        "colab": {
          "base_uri": "https://localhost:8080/",
          "height": 415
        }
      },
      "source": [
        "data_path = path/'ml-100k'\n",
        "data_path.ls()"
      ],
      "execution_count": 0,
      "outputs": [
        {
          "output_type": "execute_result",
          "data": {
            "text/plain": [
              "[PosixPath('/root/.fastai/data/movie_lens_sample/ml-100k/ub.test'),\n",
              " PosixPath('/root/.fastai/data/movie_lens_sample/ml-100k/u2.base'),\n",
              " PosixPath('/root/.fastai/data/movie_lens_sample/ml-100k/ua.base'),\n",
              " PosixPath('/root/.fastai/data/movie_lens_sample/ml-100k/u.genre'),\n",
              " PosixPath('/root/.fastai/data/movie_lens_sample/ml-100k/u.item'),\n",
              " PosixPath('/root/.fastai/data/movie_lens_sample/ml-100k/u.occupation'),\n",
              " PosixPath('/root/.fastai/data/movie_lens_sample/ml-100k/u2.test'),\n",
              " PosixPath('/root/.fastai/data/movie_lens_sample/ml-100k/u4.test'),\n",
              " PosixPath('/root/.fastai/data/movie_lens_sample/ml-100k/mku.sh'),\n",
              " PosixPath('/root/.fastai/data/movie_lens_sample/ml-100k/u5.base'),\n",
              " PosixPath('/root/.fastai/data/movie_lens_sample/ml-100k/u3.base'),\n",
              " PosixPath('/root/.fastai/data/movie_lens_sample/ml-100k/u.user'),\n",
              " PosixPath('/root/.fastai/data/movie_lens_sample/ml-100k/allbut.pl'),\n",
              " PosixPath('/root/.fastai/data/movie_lens_sample/ml-100k/README'),\n",
              " PosixPath('/root/.fastai/data/movie_lens_sample/ml-100k/u1.test'),\n",
              " PosixPath('/root/.fastai/data/movie_lens_sample/ml-100k/ub.base'),\n",
              " PosixPath('/root/.fastai/data/movie_lens_sample/ml-100k/u5.test'),\n",
              " PosixPath('/root/.fastai/data/movie_lens_sample/ml-100k/u3.test'),\n",
              " PosixPath('/root/.fastai/data/movie_lens_sample/ml-100k/ua.test'),\n",
              " PosixPath('/root/.fastai/data/movie_lens_sample/ml-100k/u.data'),\n",
              " PosixPath('/root/.fastai/data/movie_lens_sample/ml-100k/u4.base'),\n",
              " PosixPath('/root/.fastai/data/movie_lens_sample/ml-100k/u.info'),\n",
              " PosixPath('/root/.fastai/data/movie_lens_sample/ml-100k/u1.base')]"
            ]
          },
          "metadata": {
            "tags": []
          },
          "execution_count": 14
        }
      ]
    },
    {
      "cell_type": "markdown",
      "metadata": {
        "id": "i84VBBj_mevg",
        "colab_type": "text"
      },
      "source": [
        "Looking through the data"
      ]
    },
    {
      "cell_type": "code",
      "metadata": {
        "id": "e84oAE02mMsS",
        "colab_type": "code",
        "outputId": "8999d6f2-118b-4b59-f038-566be9dd23ad",
        "colab": {
          "base_uri": "https://localhost:8080/",
          "height": 138
        }
      },
      "source": [
        "pd.read_csv(data_path/'u.info', encoding='latin-1', header=None)"
      ],
      "execution_count": 0,
      "outputs": [
        {
          "output_type": "execute_result",
          "data": {
            "text/html": [
              "<div>\n",
              "<style scoped>\n",
              "    .dataframe tbody tr th:only-of-type {\n",
              "        vertical-align: middle;\n",
              "    }\n",
              "\n",
              "    .dataframe tbody tr th {\n",
              "        vertical-align: top;\n",
              "    }\n",
              "\n",
              "    .dataframe thead th {\n",
              "        text-align: right;\n",
              "    }\n",
              "</style>\n",
              "<table border=\"1\" class=\"dataframe\">\n",
              "  <thead>\n",
              "    <tr style=\"text-align: right;\">\n",
              "      <th></th>\n",
              "      <th>0</th>\n",
              "    </tr>\n",
              "  </thead>\n",
              "  <tbody>\n",
              "    <tr>\n",
              "      <th>0</th>\n",
              "      <td>943 users</td>\n",
              "    </tr>\n",
              "    <tr>\n",
              "      <th>1</th>\n",
              "      <td>1682 items</td>\n",
              "    </tr>\n",
              "    <tr>\n",
              "      <th>2</th>\n",
              "      <td>100000 ratings</td>\n",
              "    </tr>\n",
              "  </tbody>\n",
              "</table>\n",
              "</div>"
            ],
            "text/plain": [
              "                0\n",
              "0       943 users\n",
              "1      1682 items\n",
              "2  100000 ratings"
            ]
          },
          "metadata": {
            "tags": []
          },
          "execution_count": 28
        }
      ]
    },
    {
      "cell_type": "code",
      "metadata": {
        "id": "qtA7r4usnSqX",
        "colab_type": "code",
        "outputId": "5aebcc1f-7f79-4b9c-e8cb-6e5f7a62055a",
        "colab": {
          "base_uri": "https://localhost:8080/",
          "height": 407
        }
      },
      "source": [
        "pd.read_csv(data_path/'u.user', encoding='latin-1', delimiter='|', header=None)"
      ],
      "execution_count": 0,
      "outputs": [
        {
          "output_type": "execute_result",
          "data": {
            "text/html": [
              "<div>\n",
              "<style scoped>\n",
              "    .dataframe tbody tr th:only-of-type {\n",
              "        vertical-align: middle;\n",
              "    }\n",
              "\n",
              "    .dataframe tbody tr th {\n",
              "        vertical-align: top;\n",
              "    }\n",
              "\n",
              "    .dataframe thead th {\n",
              "        text-align: right;\n",
              "    }\n",
              "</style>\n",
              "<table border=\"1\" class=\"dataframe\">\n",
              "  <thead>\n",
              "    <tr style=\"text-align: right;\">\n",
              "      <th></th>\n",
              "      <th>0</th>\n",
              "      <th>1</th>\n",
              "      <th>2</th>\n",
              "      <th>3</th>\n",
              "      <th>4</th>\n",
              "    </tr>\n",
              "  </thead>\n",
              "  <tbody>\n",
              "    <tr>\n",
              "      <th>0</th>\n",
              "      <td>1</td>\n",
              "      <td>24</td>\n",
              "      <td>M</td>\n",
              "      <td>technician</td>\n",
              "      <td>85711</td>\n",
              "    </tr>\n",
              "    <tr>\n",
              "      <th>1</th>\n",
              "      <td>2</td>\n",
              "      <td>53</td>\n",
              "      <td>F</td>\n",
              "      <td>other</td>\n",
              "      <td>94043</td>\n",
              "    </tr>\n",
              "    <tr>\n",
              "      <th>2</th>\n",
              "      <td>3</td>\n",
              "      <td>23</td>\n",
              "      <td>M</td>\n",
              "      <td>writer</td>\n",
              "      <td>32067</td>\n",
              "    </tr>\n",
              "    <tr>\n",
              "      <th>3</th>\n",
              "      <td>4</td>\n",
              "      <td>24</td>\n",
              "      <td>M</td>\n",
              "      <td>technician</td>\n",
              "      <td>43537</td>\n",
              "    </tr>\n",
              "    <tr>\n",
              "      <th>4</th>\n",
              "      <td>5</td>\n",
              "      <td>33</td>\n",
              "      <td>F</td>\n",
              "      <td>other</td>\n",
              "      <td>15213</td>\n",
              "    </tr>\n",
              "    <tr>\n",
              "      <th>...</th>\n",
              "      <td>...</td>\n",
              "      <td>...</td>\n",
              "      <td>...</td>\n",
              "      <td>...</td>\n",
              "      <td>...</td>\n",
              "    </tr>\n",
              "    <tr>\n",
              "      <th>938</th>\n",
              "      <td>939</td>\n",
              "      <td>26</td>\n",
              "      <td>F</td>\n",
              "      <td>student</td>\n",
              "      <td>33319</td>\n",
              "    </tr>\n",
              "    <tr>\n",
              "      <th>939</th>\n",
              "      <td>940</td>\n",
              "      <td>32</td>\n",
              "      <td>M</td>\n",
              "      <td>administrator</td>\n",
              "      <td>02215</td>\n",
              "    </tr>\n",
              "    <tr>\n",
              "      <th>940</th>\n",
              "      <td>941</td>\n",
              "      <td>20</td>\n",
              "      <td>M</td>\n",
              "      <td>student</td>\n",
              "      <td>97229</td>\n",
              "    </tr>\n",
              "    <tr>\n",
              "      <th>941</th>\n",
              "      <td>942</td>\n",
              "      <td>48</td>\n",
              "      <td>F</td>\n",
              "      <td>librarian</td>\n",
              "      <td>78209</td>\n",
              "    </tr>\n",
              "    <tr>\n",
              "      <th>942</th>\n",
              "      <td>943</td>\n",
              "      <td>22</td>\n",
              "      <td>M</td>\n",
              "      <td>student</td>\n",
              "      <td>77841</td>\n",
              "    </tr>\n",
              "  </tbody>\n",
              "</table>\n",
              "<p>943 rows × 5 columns</p>\n",
              "</div>"
            ],
            "text/plain": [
              "       0   1  2              3      4\n",
              "0      1  24  M     technician  85711\n",
              "1      2  53  F          other  94043\n",
              "2      3  23  M         writer  32067\n",
              "3      4  24  M     technician  43537\n",
              "4      5  33  F          other  15213\n",
              "..   ...  .. ..            ...    ...\n",
              "938  939  26  F        student  33319\n",
              "939  940  32  M  administrator  02215\n",
              "940  941  20  M        student  97229\n",
              "941  942  48  F      librarian  78209\n",
              "942  943  22  M        student  77841\n",
              "\n",
              "[943 rows x 5 columns]"
            ]
          },
          "metadata": {
            "tags": []
          },
          "execution_count": 35
        }
      ]
    },
    {
      "cell_type": "code",
      "metadata": {
        "id": "acayeQSgmiC-",
        "colab_type": "code",
        "outputId": "efe49703-2a8c-40f9-a33c-c8ee9441fc40",
        "colab": {
          "base_uri": "https://localhost:8080/",
          "height": 363
        }
      },
      "source": [
        "u_occ=pd.read_csv(data_path/'u.occupation', encoding='latin-1')\n",
        "u_occ.values"
      ],
      "execution_count": 0,
      "outputs": [
        {
          "output_type": "execute_result",
          "data": {
            "text/plain": [
              "array([['artist'],\n",
              "       ['doctor'],\n",
              "       ['educator'],\n",
              "       ['engineer'],\n",
              "       ['entertainment'],\n",
              "       ['executive'],\n",
              "       ['healthcare'],\n",
              "       ['homemaker'],\n",
              "       ['lawyer'],\n",
              "       ['librarian'],\n",
              "       ['marketing'],\n",
              "       ['none'],\n",
              "       ['other'],\n",
              "       ['programmer'],\n",
              "       ['retired'],\n",
              "       ['salesman'],\n",
              "       ['scientist'],\n",
              "       ['student'],\n",
              "       ['technician'],\n",
              "       ['writer']], dtype=object)"
            ]
          },
          "metadata": {
            "tags": []
          },
          "execution_count": 32
        }
      ]
    },
    {
      "cell_type": "markdown",
      "metadata": {
        "id": "tpv7_GSij_7K",
        "colab_type": "text"
      },
      "source": [
        "### getting rating matrix -> item / data"
      ]
    },
    {
      "cell_type": "code",
      "metadata": {
        "id": "IBkZjpKLkE3y",
        "colab_type": "code",
        "outputId": "ef110ca6-d44f-49dc-9cb3-52d4b5bd21f0",
        "colab": {
          "base_uri": "https://localhost:8080/",
          "height": 35
        }
      },
      "source": [
        "items = pd.read_csv(data_path/'u.item', encoding='latin-1', delimiter='|',header=None,\n",
        "            names = [item, title, 'year', 'N', 'URL', *[f'g({i})' for i in range(19)]]            \n",
        "            )\n",
        "len(items)"
      ],
      "execution_count": 0,
      "outputs": [
        {
          "output_type": "execute_result",
          "data": {
            "text/plain": [
              "1682"
            ]
          },
          "metadata": {
            "tags": []
          },
          "execution_count": 36
        }
      ]
    },
    {
      "cell_type": "code",
      "metadata": {
        "id": "NahDvzoVnyWC",
        "colab_type": "code",
        "outputId": "0a9a6390-38cb-458e-d2f6-0942b7135448",
        "colab": {
          "base_uri": "https://localhost:8080/",
          "height": 348
        }
      },
      "source": [
        "data = pd.read_csv(data_path/'u.data', encoding='latin-1', sep='\\t', header=None, names=[user, item, 'ratings', 'timestamp']); data.head(10)"
      ],
      "execution_count": 0,
      "outputs": [
        {
          "output_type": "execute_result",
          "data": {
            "text/html": [
              "<div>\n",
              "<style scoped>\n",
              "    .dataframe tbody tr th:only-of-type {\n",
              "        vertical-align: middle;\n",
              "    }\n",
              "\n",
              "    .dataframe tbody tr th {\n",
              "        vertical-align: top;\n",
              "    }\n",
              "\n",
              "    .dataframe thead th {\n",
              "        text-align: right;\n",
              "    }\n",
              "</style>\n",
              "<table border=\"1\" class=\"dataframe\">\n",
              "  <thead>\n",
              "    <tr style=\"text-align: right;\">\n",
              "      <th></th>\n",
              "      <th>userId</th>\n",
              "      <th>movieId</th>\n",
              "      <th>ratings</th>\n",
              "      <th>timestamp</th>\n",
              "    </tr>\n",
              "  </thead>\n",
              "  <tbody>\n",
              "    <tr>\n",
              "      <th>0</th>\n",
              "      <td>196</td>\n",
              "      <td>242</td>\n",
              "      <td>3</td>\n",
              "      <td>881250949</td>\n",
              "    </tr>\n",
              "    <tr>\n",
              "      <th>1</th>\n",
              "      <td>186</td>\n",
              "      <td>302</td>\n",
              "      <td>3</td>\n",
              "      <td>891717742</td>\n",
              "    </tr>\n",
              "    <tr>\n",
              "      <th>2</th>\n",
              "      <td>22</td>\n",
              "      <td>377</td>\n",
              "      <td>1</td>\n",
              "      <td>878887116</td>\n",
              "    </tr>\n",
              "    <tr>\n",
              "      <th>3</th>\n",
              "      <td>244</td>\n",
              "      <td>51</td>\n",
              "      <td>2</td>\n",
              "      <td>880606923</td>\n",
              "    </tr>\n",
              "    <tr>\n",
              "      <th>4</th>\n",
              "      <td>166</td>\n",
              "      <td>346</td>\n",
              "      <td>1</td>\n",
              "      <td>886397596</td>\n",
              "    </tr>\n",
              "    <tr>\n",
              "      <th>5</th>\n",
              "      <td>298</td>\n",
              "      <td>474</td>\n",
              "      <td>4</td>\n",
              "      <td>884182806</td>\n",
              "    </tr>\n",
              "    <tr>\n",
              "      <th>6</th>\n",
              "      <td>115</td>\n",
              "      <td>265</td>\n",
              "      <td>2</td>\n",
              "      <td>881171488</td>\n",
              "    </tr>\n",
              "    <tr>\n",
              "      <th>7</th>\n",
              "      <td>253</td>\n",
              "      <td>465</td>\n",
              "      <td>5</td>\n",
              "      <td>891628467</td>\n",
              "    </tr>\n",
              "    <tr>\n",
              "      <th>8</th>\n",
              "      <td>305</td>\n",
              "      <td>451</td>\n",
              "      <td>3</td>\n",
              "      <td>886324817</td>\n",
              "    </tr>\n",
              "    <tr>\n",
              "      <th>9</th>\n",
              "      <td>6</td>\n",
              "      <td>86</td>\n",
              "      <td>3</td>\n",
              "      <td>883603013</td>\n",
              "    </tr>\n",
              "  </tbody>\n",
              "</table>\n",
              "</div>"
            ],
            "text/plain": [
              "   userId  movieId  ratings  timestamp\n",
              "0     196      242        3  881250949\n",
              "1     186      302        3  891717742\n",
              "2      22      377        1  878887116\n",
              "3     244       51        2  880606923\n",
              "4     166      346        1  886397596\n",
              "5     298      474        4  884182806\n",
              "6     115      265        2  881171488\n",
              "7     253      465        5  891628467\n",
              "8     305      451        3  886324817\n",
              "9       6       86        3  883603013"
            ]
          },
          "metadata": {
            "tags": []
          },
          "execution_count": 45
        }
      ]
    },
    {
      "cell_type": "markdown",
      "metadata": {
        "id": "S3K_3Zk8plis",
        "colab_type": "text"
      },
      "source": [
        "\n",
        "for comprehension, substitute movieid with title"
      ]
    },
    {
      "cell_type": "code",
      "metadata": {
        "id": "oi9XEaIYp0oG",
        "colab_type": "code",
        "outputId": "4bfe68ca-2f7c-4c9b-a5ba-e43ba6c40718",
        "colab": {
          "base_uri": "https://localhost:8080/",
          "height": 348
        }
      },
      "source": [
        "rating_matrix = data.merge(items[[item, title]]); rating_matrix.head(10)"
      ],
      "execution_count": 78,
      "outputs": [
        {
          "output_type": "execute_result",
          "data": {
            "text/html": [
              "<div>\n",
              "<style scoped>\n",
              "    .dataframe tbody tr th:only-of-type {\n",
              "        vertical-align: middle;\n",
              "    }\n",
              "\n",
              "    .dataframe tbody tr th {\n",
              "        vertical-align: top;\n",
              "    }\n",
              "\n",
              "    .dataframe thead th {\n",
              "        text-align: right;\n",
              "    }\n",
              "</style>\n",
              "<table border=\"1\" class=\"dataframe\">\n",
              "  <thead>\n",
              "    <tr style=\"text-align: right;\">\n",
              "      <th></th>\n",
              "      <th>userId</th>\n",
              "      <th>movieId</th>\n",
              "      <th>ratings</th>\n",
              "      <th>timestamp</th>\n",
              "      <th>title</th>\n",
              "    </tr>\n",
              "  </thead>\n",
              "  <tbody>\n",
              "    <tr>\n",
              "      <th>0</th>\n",
              "      <td>196</td>\n",
              "      <td>242</td>\n",
              "      <td>3</td>\n",
              "      <td>881250949</td>\n",
              "      <td>Kolya (1996)</td>\n",
              "    </tr>\n",
              "    <tr>\n",
              "      <th>1</th>\n",
              "      <td>63</td>\n",
              "      <td>242</td>\n",
              "      <td>3</td>\n",
              "      <td>875747190</td>\n",
              "      <td>Kolya (1996)</td>\n",
              "    </tr>\n",
              "    <tr>\n",
              "      <th>2</th>\n",
              "      <td>226</td>\n",
              "      <td>242</td>\n",
              "      <td>5</td>\n",
              "      <td>883888671</td>\n",
              "      <td>Kolya (1996)</td>\n",
              "    </tr>\n",
              "    <tr>\n",
              "      <th>3</th>\n",
              "      <td>154</td>\n",
              "      <td>242</td>\n",
              "      <td>3</td>\n",
              "      <td>879138235</td>\n",
              "      <td>Kolya (1996)</td>\n",
              "    </tr>\n",
              "    <tr>\n",
              "      <th>4</th>\n",
              "      <td>306</td>\n",
              "      <td>242</td>\n",
              "      <td>5</td>\n",
              "      <td>876503793</td>\n",
              "      <td>Kolya (1996)</td>\n",
              "    </tr>\n",
              "    <tr>\n",
              "      <th>5</th>\n",
              "      <td>296</td>\n",
              "      <td>242</td>\n",
              "      <td>4</td>\n",
              "      <td>884196057</td>\n",
              "      <td>Kolya (1996)</td>\n",
              "    </tr>\n",
              "    <tr>\n",
              "      <th>6</th>\n",
              "      <td>34</td>\n",
              "      <td>242</td>\n",
              "      <td>5</td>\n",
              "      <td>888601628</td>\n",
              "      <td>Kolya (1996)</td>\n",
              "    </tr>\n",
              "    <tr>\n",
              "      <th>7</th>\n",
              "      <td>271</td>\n",
              "      <td>242</td>\n",
              "      <td>4</td>\n",
              "      <td>885844495</td>\n",
              "      <td>Kolya (1996)</td>\n",
              "    </tr>\n",
              "    <tr>\n",
              "      <th>8</th>\n",
              "      <td>201</td>\n",
              "      <td>242</td>\n",
              "      <td>4</td>\n",
              "      <td>884110598</td>\n",
              "      <td>Kolya (1996)</td>\n",
              "    </tr>\n",
              "    <tr>\n",
              "      <th>9</th>\n",
              "      <td>209</td>\n",
              "      <td>242</td>\n",
              "      <td>4</td>\n",
              "      <td>883589606</td>\n",
              "      <td>Kolya (1996)</td>\n",
              "    </tr>\n",
              "  </tbody>\n",
              "</table>\n",
              "</div>"
            ],
            "text/plain": [
              "   userId  movieId  ratings  timestamp         title\n",
              "0     196      242        3  881250949  Kolya (1996)\n",
              "1      63      242        3  875747190  Kolya (1996)\n",
              "2     226      242        5  883888671  Kolya (1996)\n",
              "3     154      242        3  879138235  Kolya (1996)\n",
              "4     306      242        5  876503793  Kolya (1996)\n",
              "5     296      242        4  884196057  Kolya (1996)\n",
              "6      34      242        5  888601628  Kolya (1996)\n",
              "7     271      242        4  885844495  Kolya (1996)\n",
              "8     201      242        4  884110598  Kolya (1996)\n",
              "9     209      242        4  883589606  Kolya (1996)"
            ]
          },
          "metadata": {
            "tags": []
          },
          "execution_count": 78
        }
      ]
    },
    {
      "cell_type": "code",
      "metadata": {
        "id": "bPeJONBTp052",
        "colab_type": "code",
        "colab": {}
      },
      "source": [
        "data_bunch = CollabDataBunch.from_df(rating_matrix, valid_pct=0.1, item_name=title, seed=42)"
      ],
      "execution_count": 0,
      "outputs": []
    },
    {
      "cell_type": "code",
      "metadata": {
        "id": "wLpohU3xrym6",
        "colab_type": "code",
        "outputId": "d259348b-e5d7-4850-f55c-9d9695b42164",
        "colab": {
          "base_uri": "https://localhost:8080/",
          "height": 198
        }
      },
      "source": [
        "data_bunch.show_batch()"
      ],
      "execution_count": 0,
      "outputs": [
        {
          "output_type": "display_data",
          "data": {
            "text/html": [
              "<table border=\"1\" class=\"dataframe\">\n",
              "  <thead>\n",
              "    <tr style=\"text-align: right;\">\n",
              "      <th>userId</th>\n",
              "      <th>title</th>\n",
              "      <th>target</th>\n",
              "    </tr>\n",
              "  </thead>\n",
              "  <tbody>\n",
              "    <tr>\n",
              "      <td>445</td>\n",
              "      <td>Sabrina (1995)</td>\n",
              "      <td>2.0</td>\n",
              "    </tr>\n",
              "    <tr>\n",
              "      <td>56</td>\n",
              "      <td>Nightmare on Elm Street, A (1984)</td>\n",
              "      <td>5.0</td>\n",
              "    </tr>\n",
              "    <tr>\n",
              "      <td>599</td>\n",
              "      <td>I Know What You Did Last Summer (1997)</td>\n",
              "      <td>4.0</td>\n",
              "    </tr>\n",
              "    <tr>\n",
              "      <td>804</td>\n",
              "      <td>Day the Earth Stood Still, The (1951)</td>\n",
              "      <td>4.0</td>\n",
              "    </tr>\n",
              "    <tr>\n",
              "      <td>650</td>\n",
              "      <td>Rear Window (1954)</td>\n",
              "      <td>4.0</td>\n",
              "    </tr>\n",
              "  </tbody>\n",
              "</table>"
            ],
            "text/plain": [
              "<IPython.core.display.HTML object>"
            ]
          },
          "metadata": {
            "tags": []
          }
        }
      ]
    },
    {
      "cell_type": "code",
      "metadata": {
        "id": "h3Rg6syNp1By",
        "colab_type": "code",
        "colab": {}
      },
      "source": [
        "learn = collab_learner( data_bunch, n_factors=40, y_range=[0,5.5], wd=1e-01)"
      ],
      "execution_count": 0,
      "outputs": []
    },
    {
      "cell_type": "code",
      "metadata": {
        "id": "8j9XxLoTp1JI",
        "colab_type": "code",
        "colab": {
          "base_uri": "https://localhost:8080/",
          "height": 111
        },
        "outputId": "0bbcc97b-a183-47f6-c171-dc3ef73e1df5"
      },
      "source": [
        "learn.lr_find()"
      ],
      "execution_count": 74,
      "outputs": [
        {
          "output_type": "display_data",
          "data": {
            "text/html": [
              "\n",
              "    <div>\n",
              "        <style>\n",
              "            /* Turns off some styling */\n",
              "            progress {\n",
              "                /* gets rid of default border in Firefox and Opera. */\n",
              "                border: none;\n",
              "                /* Needs to be in here for Safari polyfill so background images work as expected. */\n",
              "                background-size: auto;\n",
              "            }\n",
              "            .progress-bar-interrupted, .progress-bar-interrupted::-webkit-progress-bar {\n",
              "                background: #F44336;\n",
              "            }\n",
              "        </style>\n",
              "      <progress value='0' class='' max='1', style='width:300px; height:20px; vertical-align: middle;'></progress>\n",
              "      0.00% [0/1 00:00<00:00]\n",
              "    </div>\n",
              "    \n",
              "<table border=\"1\" class=\"dataframe\">\n",
              "  <thead>\n",
              "    <tr style=\"text-align: left;\">\n",
              "      <th>epoch</th>\n",
              "      <th>train_loss</th>\n",
              "      <th>valid_loss</th>\n",
              "      <th>time</th>\n",
              "    </tr>\n",
              "  </thead>\n",
              "  <tbody>\n",
              "  </tbody>\n",
              "</table><p>\n",
              "\n",
              "    <div>\n",
              "        <style>\n",
              "            /* Turns off some styling */\n",
              "            progress {\n",
              "                /* gets rid of default border in Firefox and Opera. */\n",
              "                border: none;\n",
              "                /* Needs to be in here for Safari polyfill so background images work as expected. */\n",
              "                background-size: auto;\n",
              "            }\n",
              "            .progress-bar-interrupted, .progress-bar-interrupted::-webkit-progress-bar {\n",
              "                background: #F44336;\n",
              "            }\n",
              "        </style>\n",
              "      <progress value='85' class='' max='1406', style='width:300px; height:20px; vertical-align: middle;'></progress>\n",
              "      6.05% [85/1406 00:00<00:11 1.9202]\n",
              "    </div>\n",
              "    "
            ],
            "text/plain": [
              "<IPython.core.display.HTML object>"
            ]
          },
          "metadata": {
            "tags": []
          }
        },
        {
          "output_type": "stream",
          "text": [
            "LR Finder is complete, type {learner_name}.recorder.plot() to see the graph.\n"
          ],
          "name": "stdout"
        }
      ]
    },
    {
      "cell_type": "code",
      "metadata": {
        "id": "8H2IxgLn4NSI",
        "colab_type": "code",
        "colab": {
          "base_uri": "https://localhost:8080/",
          "height": 314
        },
        "outputId": "913a3475-d04b-4e0c-e654-7f1cb1449c4f"
      },
      "source": [
        "learn.recorder.plot(skip_end=15, suggestion=True)"
      ],
      "execution_count": 75,
      "outputs": [
        {
          "output_type": "stream",
          "text": [
            "Min numerical gradient: 1.74E-01\n",
            "Min loss divided by 10: 2.51E-02\n"
          ],
          "name": "stdout"
        },
        {
          "output_type": "display_data",
          "data": {
            "image/png": "[encoded data removed]",
            "text/plain": [
              "<Figure size 432x288 with 1 Axes>"
            ]
          },
          "metadata": {
            "tags": []
          }
        }
      ]
    },
    {
      "cell_type": "code",
      "metadata": {
        "id": "C0xMaxB_5Qdw",
        "colab_type": "code",
        "colab": {
          "base_uri": "https://localhost:8080/",
          "height": 198
        },
        "outputId": "41488be2-8c9c-499c-efc3-b3928b45de84"
      },
      "source": [
        "learn.fit_one_cycle(5, 2.51E-02)\n",
        "learn.save('stage-1')"
      ],
      "execution_count": 76,
      "outputs": [
        {
          "output_type": "display_data",
          "data": {
            "text/html": [
              "<table border=\"1\" class=\"dataframe\">\n",
              "  <thead>\n",
              "    <tr style=\"text-align: left;\">\n",
              "      <th>epoch</th>\n",
              "      <th>train_loss</th>\n",
              "      <th>valid_loss</th>\n",
              "      <th>time</th>\n",
              "    </tr>\n",
              "  </thead>\n",
              "  <tbody>\n",
              "    <tr>\n",
              "      <td>0</td>\n",
              "      <td>1.028524</td>\n",
              "      <td>1.064036</td>\n",
              "      <td>00:10</td>\n",
              "    </tr>\n",
              "    <tr>\n",
              "      <td>1</td>\n",
              "      <td>1.100684</td>\n",
              "      <td>1.106313</td>\n",
              "      <td>00:10</td>\n",
              "    </tr>\n",
              "    <tr>\n",
              "      <td>2</td>\n",
              "      <td>0.962634</td>\n",
              "      <td>0.996034</td>\n",
              "      <td>00:10</td>\n",
              "    </tr>\n",
              "    <tr>\n",
              "      <td>3</td>\n",
              "      <td>0.815722</td>\n",
              "      <td>0.856966</td>\n",
              "      <td>00:10</td>\n",
              "    </tr>\n",
              "    <tr>\n",
              "      <td>4</td>\n",
              "      <td>0.605413</td>\n",
              "      <td>0.837510</td>\n",
              "      <td>00:10</td>\n",
              "    </tr>\n",
              "  </tbody>\n",
              "</table>"
            ],
            "text/plain": [
              "<IPython.core.display.HTML object>"
            ]
          },
          "metadata": {
            "tags": []
          }
        }
      ]
    },
    {
      "cell_type": "markdown",
      "metadata": {
        "id": "06fH3ay8VV8_",
        "colab_type": "text"
      },
      "source": [
        "## Interpretation"
      ]
    },
    {
      "cell_type": "markdown",
      "metadata": {
        "id": "mXPLxkEhVYI9",
        "colab_type": "text"
      },
      "source": [
        "### Setup\n",
        "- most seen movie dataframe, select only 1000,\n"
      ]
    },
    {
      "cell_type": "code",
      "metadata": {
        "id": "l11BezK96xth",
        "colab_type": "code",
        "colab": {
          "base_uri": "https://localhost:8080/",
          "height": 207
        },
        "outputId": "901303f3-a966-4836-f85a-6710e2433908"
      },
      "source": [
        "item_freq = rating_matrix.groupby(title).ratings.count();"
      ],
      "execution_count": 90,
      "outputs": [
        {
          "output_type": "execute_result",
          "data": {
            "text/plain": [
              "[Index([''Til There Was You (1997)', '1-900 (1994)', '101 Dalmatians (1996)',\n",
              "        '12 Angry Men (1957)', '187 (1997)', '2 Days in the Valley (1996)',\n",
              "        '20,000 Leagues Under the Sea (1954)', '2001: A Space Odyssey (1968)',\n",
              "        '3 Ninjas: High Noon At Mega Mountain (1998)', '39 Steps, The (1935)',\n",
              "        ...\n",
              "        'Yankee Zulu (1994)', 'Year of the Horse (1997)', 'You So Crazy (1994)',\n",
              "        'Young Frankenstein (1974)', 'Young Guns (1988)',\n",
              "        'Young Guns II (1990)', 'Young Poisoner's Handbook, The (1995)',\n",
              "        'Zeus and Roxanne (1997)', 'unknown',\n",
              "        'Á köldum klaka (Cold Fever) (1994)'],\n",
              "       dtype='object', name='title', length=1664)]"
            ]
          },
          "metadata": {
            "tags": []
          },
          "execution_count": 90
        }
      ]
    },
    {
      "cell_type": "markdown",
      "metadata": {
        "id": "VXxWh6H86rGO",
        "colab_type": "text"
      },
      "source": [
        "\n",
        "### bias\n",
        "\n",
        "sort movie depends on most seen movie."
      ]
    },
    {
      "cell_type": "code",
      "metadata": {
        "id": "qUsEB9oE7QcC",
        "colab_type": "code",
        "colab": {}
      },
      "source": [
        "item_freq.sort_values(ascending=False, inplace=True)"
      ],
      "execution_count": 0,
      "outputs": []
    },
    {
      "cell_type": "code",
      "metadata": {
        "id": "M91ULItX_vWv",
        "colab_type": "code",
        "colab": {
          "base_uri": "https://localhost:8080/",
          "height": 69
        },
        "outputId": "7bae6d04-c93f-4a22-de06-303cf619f803"
      },
      "source": [
        "movie_all = item_freq.index.values"
      ],
      "execution_count": 126,
      "outputs": [
        {
          "output_type": "execute_result",
          "data": {
            "text/plain": [
              "array(['Star Wars (1977)', 'Contact (1997)', 'Fargo (1996)', 'Return of the Jedi (1983)', 'Liar Liar (1997)',\n",
              "       'English Patient, The (1996)', 'Scream (1996)', 'Toy Story (1995)', 'Air Force One (1997)',\n",
              "       'Independence Day (ID4) (1996)'], dtype=object)"
            ]
          },
          "metadata": {
            "tags": []
          },
          "execution_count": 126
        },
        {
          "output_type": "stream",
          "text": [
            "ERROR! Session/line number was not unique in database. History logging moved to new session 61\n"
          ],
          "name": "stdout"
        }
      ]
    },
    {
      "cell_type": "markdown",
      "metadata": {
        "id": "MDYtNNm2C2Ul",
        "colab_type": "text"
      },
      "source": [
        "load learned `movie bias` parameter"
      ]
    },
    {
      "cell_type": "code",
      "metadata": {
        "id": "2weywOtvC5wS",
        "colab_type": "code",
        "colab": {
          "base_uri": "https://localhost:8080/",
          "height": 345
        },
        "outputId": "c243172c-6e7f-44a0-a598-706c91d3c6b8"
      },
      "source": [
        "mb = learn.bias(movie_all)"
      ],
      "execution_count": 127,
      "outputs": [
        {
          "output_type": "stream",
          "text": [
            "You're trying to access an item that isn't in the training data.\n",
            "                  If it was in your original data, it may have been split such that it's only in the validation set now.\n"
          ],
          "name": "stdout"
        },
        {
          "output_type": "error",
          "ename": "TypeError",
          "evalue": "ignored",
          "traceback": [
            "\u001b[0;31m---------------------------------------------------------------------------\u001b[0m",
            "\u001b[0;31mTypeError\u001b[0m                                 Traceback (most recent call last)",
            "\u001b[0;32m<ipython-input-127-d16a51800aff>\u001b[0m in \u001b[0;36m<module>\u001b[0;34m()\u001b[0m\n\u001b[0;32m----> 1\u001b[0;31m \u001b[0mmb\u001b[0m \u001b[0;34m=\u001b[0m \u001b[0mlearn\u001b[0m\u001b[0;34m.\u001b[0m\u001b[0mbias\u001b[0m\u001b[0;34m(\u001b[0m\u001b[0mmovie_all\u001b[0m\u001b[0;34m)\u001b[0m\u001b[0;34m\u001b[0m\u001b[0;34m\u001b[0m\u001b[0m\n\u001b[0m",
            "\u001b[0;32m/usr/local/lib/python3.6/dist-packages/fastai/collab.py\u001b[0m in \u001b[0;36mbias\u001b[0;34m(self, arr, is_item)\u001b[0m\n\u001b[1;32m     85\u001b[0m         \u001b[0mm\u001b[0m \u001b[0;34m=\u001b[0m \u001b[0mself\u001b[0m\u001b[0;34m.\u001b[0m\u001b[0mmodel\u001b[0m\u001b[0;34m\u001b[0m\u001b[0;34m\u001b[0m\u001b[0m\n\u001b[1;32m     86\u001b[0m         \u001b[0mlayer\u001b[0m \u001b[0;34m=\u001b[0m \u001b[0mm\u001b[0m\u001b[0;34m.\u001b[0m\u001b[0mi_bias\u001b[0m \u001b[0;32mif\u001b[0m \u001b[0mis_item\u001b[0m \u001b[0;32melse\u001b[0m \u001b[0mm\u001b[0m\u001b[0;34m.\u001b[0m\u001b[0mu_bias\u001b[0m\u001b[0;34m\u001b[0m\u001b[0;34m\u001b[0m\u001b[0m\n\u001b[0;32m---> 87\u001b[0;31m         \u001b[0;32mreturn\u001b[0m \u001b[0mlayer\u001b[0m\u001b[0;34m(\u001b[0m\u001b[0midx\u001b[0m\u001b[0;34m)\u001b[0m\u001b[0;34m.\u001b[0m\u001b[0msqueeze\u001b[0m\u001b[0;34m(\u001b[0m\u001b[0;34m)\u001b[0m\u001b[0;34m\u001b[0m\u001b[0;34m\u001b[0m\u001b[0m\n\u001b[0m\u001b[1;32m     88\u001b[0m \u001b[0;34m\u001b[0m\u001b[0m\n\u001b[1;32m     89\u001b[0m     \u001b[0;32mdef\u001b[0m \u001b[0mweight\u001b[0m\u001b[0;34m(\u001b[0m\u001b[0mself\u001b[0m\u001b[0;34m,\u001b[0m \u001b[0marr\u001b[0m\u001b[0;34m:\u001b[0m\u001b[0mCollection\u001b[0m\u001b[0;34m,\u001b[0m \u001b[0mis_item\u001b[0m\u001b[0;34m:\u001b[0m\u001b[0mbool\u001b[0m\u001b[0;34m=\u001b[0m\u001b[0;32mTrue\u001b[0m\u001b[0;34m)\u001b[0m\u001b[0;34m:\u001b[0m\u001b[0;34m\u001b[0m\u001b[0;34m\u001b[0m\u001b[0m\n",
            "\u001b[0;32m/usr/local/lib/python3.6/dist-packages/torch/nn/modules/module.py\u001b[0m in \u001b[0;36m__call__\u001b[0;34m(self, *input, **kwargs)\u001b[0m\n\u001b[1;32m    530\u001b[0m             \u001b[0mresult\u001b[0m \u001b[0;34m=\u001b[0m \u001b[0mself\u001b[0m\u001b[0;34m.\u001b[0m\u001b[0m_slow_forward\u001b[0m\u001b[0;34m(\u001b[0m\u001b[0;34m*\u001b[0m\u001b[0minput\u001b[0m\u001b[0;34m,\u001b[0m \u001b[0;34m**\u001b[0m\u001b[0mkwargs\u001b[0m\u001b[0;34m)\u001b[0m\u001b[0;34m\u001b[0m\u001b[0;34m\u001b[0m\u001b[0m\n\u001b[1;32m    531\u001b[0m         \u001b[0;32melse\u001b[0m\u001b[0;34m:\u001b[0m\u001b[0;34m\u001b[0m\u001b[0;34m\u001b[0m\u001b[0m\n\u001b[0;32m--> 532\u001b[0;31m             \u001b[0mresult\u001b[0m \u001b[0;34m=\u001b[0m \u001b[0mself\u001b[0m\u001b[0;34m.\u001b[0m\u001b[0mforward\u001b[0m\u001b[0;34m(\u001b[0m\u001b[0;34m*\u001b[0m\u001b[0minput\u001b[0m\u001b[0;34m,\u001b[0m \u001b[0;34m**\u001b[0m\u001b[0mkwargs\u001b[0m\u001b[0;34m)\u001b[0m\u001b[0;34m\u001b[0m\u001b[0;34m\u001b[0m\u001b[0m\n\u001b[0m\u001b[1;32m    533\u001b[0m         \u001b[0;32mfor\u001b[0m \u001b[0mhook\u001b[0m \u001b[0;32min\u001b[0m \u001b[0mself\u001b[0m\u001b[0;34m.\u001b[0m\u001b[0m_forward_hooks\u001b[0m\u001b[0;34m.\u001b[0m\u001b[0mvalues\u001b[0m\u001b[0;34m(\u001b[0m\u001b[0;34m)\u001b[0m\u001b[0;34m:\u001b[0m\u001b[0;34m\u001b[0m\u001b[0;34m\u001b[0m\u001b[0m\n\u001b[1;32m    534\u001b[0m             \u001b[0mhook_result\u001b[0m \u001b[0;34m=\u001b[0m \u001b[0mhook\u001b[0m\u001b[0;34m(\u001b[0m\u001b[0mself\u001b[0m\u001b[0;34m,\u001b[0m \u001b[0minput\u001b[0m\u001b[0;34m,\u001b[0m \u001b[0mresult\u001b[0m\u001b[0;34m)\u001b[0m\u001b[0;34m\u001b[0m\u001b[0;34m\u001b[0m\u001b[0m\n",
            "\u001b[0;32m/usr/local/lib/python3.6/dist-packages/torch/nn/modules/sparse.py\u001b[0m in \u001b[0;36mforward\u001b[0;34m(self, input)\u001b[0m\n\u001b[1;32m    112\u001b[0m         return F.embedding(\n\u001b[1;32m    113\u001b[0m             \u001b[0minput\u001b[0m\u001b[0;34m,\u001b[0m \u001b[0mself\u001b[0m\u001b[0;34m.\u001b[0m\u001b[0mweight\u001b[0m\u001b[0;34m,\u001b[0m \u001b[0mself\u001b[0m\u001b[0;34m.\u001b[0m\u001b[0mpadding_idx\u001b[0m\u001b[0;34m,\u001b[0m \u001b[0mself\u001b[0m\u001b[0;34m.\u001b[0m\u001b[0mmax_norm\u001b[0m\u001b[0;34m,\u001b[0m\u001b[0;34m\u001b[0m\u001b[0;34m\u001b[0m\u001b[0m\n\u001b[0;32m--> 114\u001b[0;31m             self.norm_type, self.scale_grad_by_freq, self.sparse)\n\u001b[0m\u001b[1;32m    115\u001b[0m \u001b[0;34m\u001b[0m\u001b[0m\n\u001b[1;32m    116\u001b[0m     \u001b[0;32mdef\u001b[0m \u001b[0mextra_repr\u001b[0m\u001b[0;34m(\u001b[0m\u001b[0mself\u001b[0m\u001b[0;34m)\u001b[0m\u001b[0;34m:\u001b[0m\u001b[0;34m\u001b[0m\u001b[0;34m\u001b[0m\u001b[0m\n",
            "\u001b[0;32m/usr/local/lib/python3.6/dist-packages/torch/nn/functional.py\u001b[0m in \u001b[0;36membedding\u001b[0;34m(input, weight, padding_idx, max_norm, norm_type, scale_grad_by_freq, sparse)\u001b[0m\n\u001b[1;32m   1482\u001b[0m         \u001b[0;31m# remove once script supports set_grad_enabled\u001b[0m\u001b[0;34m\u001b[0m\u001b[0;34m\u001b[0m\u001b[0;34m\u001b[0m\u001b[0m\n\u001b[1;32m   1483\u001b[0m         \u001b[0m_no_grad_embedding_renorm_\u001b[0m\u001b[0;34m(\u001b[0m\u001b[0mweight\u001b[0m\u001b[0;34m,\u001b[0m \u001b[0minput\u001b[0m\u001b[0;34m,\u001b[0m \u001b[0mmax_norm\u001b[0m\u001b[0;34m,\u001b[0m \u001b[0mnorm_type\u001b[0m\u001b[0;34m)\u001b[0m\u001b[0;34m\u001b[0m\u001b[0;34m\u001b[0m\u001b[0m\n\u001b[0;32m-> 1484\u001b[0;31m     \u001b[0;32mreturn\u001b[0m \u001b[0mtorch\u001b[0m\u001b[0;34m.\u001b[0m\u001b[0membedding\u001b[0m\u001b[0;34m(\u001b[0m\u001b[0mweight\u001b[0m\u001b[0;34m,\u001b[0m \u001b[0minput\u001b[0m\u001b[0;34m,\u001b[0m \u001b[0mpadding_idx\u001b[0m\u001b[0;34m,\u001b[0m \u001b[0mscale_grad_by_freq\u001b[0m\u001b[0;34m,\u001b[0m \u001b[0msparse\u001b[0m\u001b[0;34m)\u001b[0m\u001b[0;34m\u001b[0m\u001b[0;34m\u001b[0m\u001b[0m\n\u001b[0m\u001b[1;32m   1485\u001b[0m \u001b[0;34m\u001b[0m\u001b[0m\n\u001b[1;32m   1486\u001b[0m \u001b[0;34m\u001b[0m\u001b[0m\n",
            "\u001b[0;31mTypeError\u001b[0m: embedding(): argument 'indices' (position 2) must be Tensor, not NoneType"
          ]
        }
      ]
    },
    {
      "cell_type": "markdown",
      "metadata": {
        "id": "u0UsOlL0EyCP",
        "colab_type": "text"
      },
      "source": [
        "`You're trying to access an item that isn't in the training data.\n",
        "                  If it was in your original data, it may have been split such that it's only in the validation set now.`"
      ]
    },
    {
      "cell_type": "code",
      "metadata": {
        "id": "UwNAHjyqE50A",
        "colab_type": "code",
        "colab": {}
      },
      "source": [
        "mb = learn.bias(movie_all[:1300]) #changed to 100"
      ],
      "execution_count": 0,
      "outputs": []
    },
    {
      "cell_type": "markdown",
      "metadata": {
        "id": "kQW_rjTVCp7a",
        "colab_type": "text"
      },
      "source": [
        "average the movie ratings.\n"
      ]
    },
    {
      "cell_type": "code",
      "metadata": {
        "id": "ae0u8serDFg0",
        "colab_type": "code",
        "colab": {
          "base_uri": "https://localhost:8080/",
          "height": 138
        },
        "outputId": "96c3e213-1f53-435f-9457-c36bd3be55b0"
      },
      "source": [
        "avg = rating_matrix.groupby(title).ratings.mean(); avg[:5]"
      ],
      "execution_count": 152,
      "outputs": [
        {
          "output_type": "execute_result",
          "data": {
            "text/plain": [
              "title\n",
              "'Til There Was You (1997)    2.333333\n",
              "1-900 (1994)                 2.600000\n",
              "101 Dalmatians (1996)        2.908257\n",
              "12 Angry Men (1957)          4.344000\n",
              "187 (1997)                   3.024390\n",
              "Name: ratings, dtype: float64"
            ]
          },
          "metadata": {
            "tags": []
          },
          "execution_count": 152
        }
      ]
    },
    {
      "cell_type": "code",
      "metadata": {
        "id": "PrZun89FFcsn",
        "colab_type": "code",
        "colab": {
          "base_uri": "https://localhost:8080/",
          "height": 190
        },
        "outputId": "40323aef-67d2-4277-e5ee-4d39aadc94c1"
      },
      "source": [
        "[f'N.{i+1}, {item_freq[i]} rated, {v}, rating: {avg[v]:.3f}' for i, v in enumerate(movie_all[:10])]  "
      ],
      "execution_count": 157,
      "outputs": [
        {
          "output_type": "execute_result",
          "data": {
            "text/plain": [
              "['N.1, 583 rated, Star Wars (1977), rating: 4.358',\n",
              " 'N.2, 509 rated, Contact (1997), rating: 3.804',\n",
              " 'N.3, 508 rated, Fargo (1996), rating: 4.156',\n",
              " 'N.4, 507 rated, Return of the Jedi (1983), rating: 4.008',\n",
              " 'N.5, 485 rated, Liar Liar (1997), rating: 3.157',\n",
              " 'N.6, 481 rated, English Patient, The (1996), rating: 3.657',\n",
              " 'N.7, 478 rated, Scream (1996), rating: 3.441',\n",
              " 'N.8, 452 rated, Toy Story (1995), rating: 3.878',\n",
              " 'N.9, 431 rated, Air Force One (1997), rating: 3.631',\n",
              " 'N.10, 429 rated, Independence Day (ID4) (1996), rating: 3.438']"
            ]
          },
          "metadata": {
            "tags": []
          },
          "execution_count": 157
        }
      ]
    },
    {
      "cell_type": "markdown",
      "metadata": {
        "id": "4jUiqQVfDFGT",
        "colab_type": "text"
      },
      "source": [
        "arrange (bias[i], mostly seen[i], rating avg[i]) and sort ky bias. ascending and descening"
      ]
    },
    {
      "cell_type": "code",
      "metadata": {
        "id": "nC-Qo1K1FTbt",
        "colab_type": "code",
        "colab": {}
      },
      "source": [
        "bias_tuple = [(b, tle, avg[tle]) for b, tle in zip(mb, movie_all[:100])]"
      ],
      "execution_count": 0,
      "outputs": []
    },
    {
      "cell_type": "code",
      "metadata": {
        "id": "WjfX4ZmdNbTG",
        "colab_type": "code",
        "colab": {
          "base_uri": "https://localhost:8080/",
          "height": 190
        },
        "outputId": "37145444-4284-40ca-bc72-fe9280fb9c73"
      },
      "source": [
        "sorted(bias_tuple, key = itemgetter(0))[:10]"
      ],
      "execution_count": 159,
      "outputs": [
        {
          "output_type": "execute_result",
          "data": {
            "text/plain": [
              "[(tensor(-0.0995), 'Volcano (1997)', 2.808219178082192),\n",
              " (tensor(-0.0329), 'Broken Arrow (1996)', 3.031496062992126),\n",
              " (tensor(-0.0316), 'Evita (1996)', 2.9806949806949805),\n",
              " (tensor(-0.0292), \"Dante's Peak (1997)\", 2.933333333333333),\n",
              " (tensor(0.0581), 'Murder at 1600 (1997)', 3.0871559633027523),\n",
              " (tensor(0.0769), \"Devil's Own, The (1997)\", 3.1083333333333334),\n",
              " (tensor(0.1038), 'Liar Liar (1997)', 3.156701030927835),\n",
              " (tensor(0.1078), 'Twister (1996)', 3.2150170648464163),\n",
              " (tensor(0.1155), 'Saint, The (1997)', 3.1234177215189876),\n",
              " (tensor(0.1742), 'Mission: Impossible (1996)', 3.313953488372093)]"
            ]
          },
          "metadata": {
            "tags": []
          },
          "execution_count": 159
        }
      ]
    },
    {
      "cell_type": "code",
      "metadata": {
        "id": "PUKWfxGWNqRF",
        "colab_type": "code",
        "colab": {
          "base_uri": "https://localhost:8080/",
          "height": 190
        },
        "outputId": "e30c0e1d-46fd-478b-e378-15ac44d102e6"
      },
      "source": [
        "sorted(bias_tuple, key = itemgetter(0), reverse=True)[:10]"
      ],
      "execution_count": 160,
      "outputs": [
        {
          "output_type": "execute_result",
          "data": {
            "text/plain": [
              "[(tensor(0.8650), \"Schindler's List (1993)\", 4.466442953020135),\n",
              " (tensor(0.8147), 'Shawshank Redemption, The (1994)', 4.445229681978798),\n",
              " (tensor(0.8005), 'Casablanca (1942)', 4.45679012345679),\n",
              " (tensor(0.7782), 'Titanic (1997)', 4.2457142857142856),\n",
              " (tensor(0.7671), 'Star Wars (1977)', 4.3584905660377355),\n",
              " (tensor(0.7615), 'Silence of the Lambs, The (1991)', 4.28974358974359),\n",
              " (tensor(0.7280), 'L.A. Confidential (1997)', 4.161616161616162),\n",
              " (tensor(0.7063), 'Usual Suspects, The (1995)', 4.385767790262173),\n",
              " (tensor(0.6968), \"One Flew Over the Cuckoo's Nest (1975)\", 4.291666666666667),\n",
              " (tensor(0.6828), 'Godfather, The (1972)', 4.283292978208232)]"
            ]
          },
          "metadata": {
            "tags": []
          },
          "execution_count": 160
        }
      ]
    },
    {
      "cell_type": "markdown",
      "metadata": {
        "id": "Q9x36lZb6s46",
        "colab_type": "text"
      },
      "source": [
        "\n",
        "### weight\n",
        "\n",
        "load weight depends on most seen movie, lesson factors 40 to 3, sort movie title depends on each factor.\n"
      ]
    },
    {
      "cell_type": "code",
      "metadata": {
        "id": "YZ3FI5vtN4cT",
        "colab_type": "code",
        "colab": {}
      },
      "source": [
        "mw = learn.weight(movie_all[:1300])"
      ],
      "execution_count": 0,
      "outputs": []
    },
    {
      "cell_type": "code",
      "metadata": {
        "id": "Ilenn8U7N4kZ",
        "colab_type": "code",
        "colab": {
          "base_uri": "https://localhost:8080/",
          "height": 35
        },
        "outputId": "54006db6-f34f-48a7-c46f-44bf76790752"
      },
      "source": [
        "mw.shape"
      ],
      "execution_count": 164,
      "outputs": [
        {
          "output_type": "execute_result",
          "data": {
            "text/plain": [
              "torch.Size([1300, 40])"
            ]
          },
          "metadata": {
            "tags": []
          },
          "execution_count": 164
        }
      ]
    },
    {
      "cell_type": "code",
      "metadata": {
        "id": "c-rmuENnN4tb",
        "colab_type": "code",
        "colab": {}
      },
      "source": [
        "ld0, ld1, ld2 = mw.pca(3).t()"
      ],
      "execution_count": 0,
      "outputs": []
    },
    {
      "cell_type": "code",
      "metadata": {
        "id": "DB-ftM3_N41F",
        "colab_type": "code",
        "colab": {
          "base_uri": "https://localhost:8080/",
          "height": 35
        },
        "outputId": "d5a40082-0dc8-427b-b6e2-4fd5dd2d3fa5"
      },
      "source": [
        "ld0.shape"
      ],
      "execution_count": 171,
      "outputs": [
        {
          "output_type": "execute_result",
          "data": {
            "text/plain": [
              "torch.Size([1300])"
            ]
          },
          "metadata": {
            "tags": []
          },
          "execution_count": 171
        }
      ]
    },
    {
      "cell_type": "code",
      "metadata": {
        "id": "gfIGTVcEN466",
        "colab_type": "code",
        "colab": {
          "base_uri": "https://localhost:8080/",
          "height": 363
        },
        "outputId": "17eaa0a2-3e85-44c1-c8f9-a9299c63c51c"
      },
      "source": [
        "sorted([(i,j) for i, j in zip(ld0, movie_all[:1300])], key=itemgetter(0), reverse=True)[:20]"
      ],
      "execution_count": 174,
      "outputs": [
        {
          "output_type": "execute_result",
          "data": {
            "text/plain": [
              "[(tensor(1.1216), 'Jungle2Jungle (1997)'),\n",
              " (tensor(0.9222), 'Congo (1995)'),\n",
              " (tensor(0.9222), 'Down Periscope (1996)'),\n",
              " (tensor(0.8669), 'Bio-Dome (1996)'),\n",
              " (tensor(0.8663), 'D3: The Mighty Ducks (1996)'),\n",
              " (tensor(0.8648), \"McHale's Navy (1997)\"),\n",
              " (tensor(0.8421), 'Beautician and the Beast, The (1997)'),\n",
              " (tensor(0.8385), 'Ghost and the Darkness, The (1996)'),\n",
              " (tensor(0.8381), 'Grumpier Old Men (1995)'),\n",
              " (tensor(0.8138), 'Striking Distance (1993)'),\n",
              " (tensor(0.7659), 'Murder at 1600 (1997)'),\n",
              " (tensor(0.7655), 'Home Alone 3 (1997)'),\n",
              " (tensor(0.7507), 'Twister (1996)'),\n",
              " (tensor(0.7502), 'Body Parts (1991)'),\n",
              " (tensor(0.7365), 'Volcano (1997)'),\n",
              " (tensor(0.7341), 'G.I. Jane (1997)'),\n",
              " (tensor(0.7302), 'Net, The (1995)'),\n",
              " (tensor(0.7212), 'Leave It to Beaver (1997)'),\n",
              " (tensor(0.7206), 'Batman & Robin (1997)'),\n",
              " (tensor(0.7019), 'First Knight (1995)')]"
            ]
          },
          "metadata": {
            "tags": []
          },
          "execution_count": 174
        }
      ]
    }
  ]
}