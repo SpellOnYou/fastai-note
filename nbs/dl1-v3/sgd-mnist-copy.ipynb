{
 "cells": [
  {
   "cell_type": "markdown",
   "metadata": {},
   "source": [
    "Implement without watching code"
   ]
  },
  {
   "cell_type": "markdown",
   "metadata": {},
   "source": [
    "MNIST SGD\n",
    "\n",
    "1. download pickle file using http://deeplearning.net/data/mnist/mnist.pkl.gz link\n",
    "2. set the path and assign variable\n",
    "3. draw random data of x_train\n",
    "4. make it to pytorch’s tensor\n",
    "5. and create databunch(size=64)\n",
    "6. see first bunch of data\n",
    "7. make class Mnist logistic which do multiplication\n",
    "8. make model to gpu version and see inner function.\n",
    "9. set the loss function as crossentropy\n",
    "10. and make function which update parameter depends on batch data.\n",
    "11. plot loss\n",
    "12. another class which has hidden nn, layer = 50, use relu as activation function\n",
    "13. same with 10,  but use optimization, which is adam.\n",
    "14. lr=1e-3 draw it\n",
    "15. do it with fast.ai\n"
   ]
  },
  {
   "cell_type": "code",
   "execution_count": null,
   "metadata": {},
   "outputs": [],
   "source": []
  }
 ],
 "metadata": {
  "kernelspec": {
   "display_name": "Python 3",
   "language": "python",
   "name": "python3"
  },
  "language_info": {
   "codemirror_mode": {
    "name": "ipython",
    "version": 3
   },
   "file_extension": ".py",
   "mimetype": "text/x-python",
   "name": "python",
   "nbconvert_exporter": "python",
   "pygments_lexer": "ipython3",
   "version": "3.8.0"
  }
 },
 "nbformat": 4,
 "nbformat_minor": 2
}
