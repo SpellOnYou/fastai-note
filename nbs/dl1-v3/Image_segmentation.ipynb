{
  "nbformat": 4,
  "nbformat_minor": 0,
  "metadata": {
    "colab": {
      "name": "camvid-copy.ipynb",
      "provenance": [],
      "collapsed_sections": []
    },
    "kernelspec": {
      "name": "python3",
      "display_name": "Python 3"
    },
    "accelerator": "GPU"
  },
  "cells": [
    {
      "cell_type": "code",
      "metadata": {
        "id": "zEMMkbHnwLQP",
        "colab_type": "code",
        "colab": {}
      },
      "source": [
        "from IPython.core.interactiveshell import InteractiveShell\n",
        "InteractiveShell.ast_node_interactivity = \"all\""
      ],
      "execution_count": 0,
      "outputs": []
    },
    {
      "cell_type": "code",
      "metadata": {
        "id": "IgP8rPsebCjW",
        "colab_type": "code",
        "colab": {}
      },
      "source": [
        "%reload_ext autoreload\n",
        "%autoreload 2\n",
        "%matplotlib inline"
      ],
      "execution_count": 0,
      "outputs": []
    },
    {
      "cell_type": "code",
      "metadata": {
        "id": "KfKtd2Q5rkwi",
        "colab_type": "code",
        "colab": {}
      },
      "source": [
        "from fastai.vision import *\n",
        "from fastai.callback import *\n",
        "from fastai.utils.mem import *"
      ],
      "execution_count": 0,
      "outputs": []
    },
    {
      "cell_type": "code",
      "metadata": {
        "id": "3xl8PRthteIx",
        "colab_type": "code",
        "outputId": "f0848a27-6628-40c6-c9f9-d00076986387",
        "colab": {
          "base_uri": "https://localhost:8080/",
          "height": 69
        }
      },
      "source": [
        "# import data, used small data for learning time\n",
        "path = untar_data(URLs.CAMVID_TINY) #output is path\n",
        "path.ls()"
      ],
      "execution_count": 4,
      "outputs": [
        {
          "output_type": "execute_result",
          "data": {
            "text/plain": [
              "[PosixPath('/root/.fastai/data/camvid_tiny/codes.txt'),\n",
              " PosixPath('/root/.fastai/data/camvid_tiny/labels'),\n",
              " PosixPath('/root/.fastai/data/camvid_tiny/images')]"
            ]
          },
          "metadata": {
            "tags": []
          },
          "execution_count": 4
        }
      ]
    },
    {
      "cell_type": "code",
      "metadata": {
        "id": "mdAzfE2Qu9uk",
        "colab_type": "code",
        "colab": {}
      },
      "source": [
        "# img file path and label file path\n",
        "path_img = path/'images'\n",
        "path_lbl = path/'labels'"
      ],
      "execution_count": 0,
      "outputs": []
    },
    {
      "cell_type": "code",
      "metadata": {
        "id": "PB4_BXYX1CSJ",
        "colab_type": "code",
        "colab": {}
      },
      "source": [
        "# different from ls, check if it is img or not\n",
        "fnames = get_image_files(path_img)\n",
        "lbl_names = get_image_files(path_lbl)"
      ],
      "execution_count": 0,
      "outputs": []
    },
    {
      "cell_type": "code",
      "metadata": {
        "id": "pqK0e3wB2Mcb",
        "colab_type": "code",
        "outputId": "54eba8dc-012e-4189-c167-e880646fd4ff",
        "colab": {
          "base_uri": "https://localhost:8080/",
          "height": 52
        }
      },
      "source": [
        "fnames[0], lbl_names[0]"
      ],
      "execution_count": 7,
      "outputs": [
        {
          "output_type": "execute_result",
          "data": {
            "text/plain": [
              "(PosixPath('/root/.fastai/data/camvid_tiny/images/0016E5_01920.png'),\n",
              " PosixPath('/root/.fastai/data/camvid_tiny/labels/0016E5_08009_P.png'))"
            ]
          },
          "metadata": {
            "tags": []
          },
          "execution_count": 7
        }
      ]
    },
    {
      "cell_type": "code",
      "metadata": {
        "id": "mGeRrsJN2SGO",
        "colab_type": "code",
        "outputId": "aff69b97-d600-4c58-d56c-ff6b97637d63",
        "colab": {
          "base_uri": "https://localhost:8080/",
          "height": 198
        }
      },
      "source": [
        "img = open_image(fnames[0])\n",
        "img.show(figsize=(4,4))"
      ],
      "execution_count": 8,
      "outputs": [
        {
          "output_type": "display_data",
          "data": {
            "image/png": "[encoded data removed]",
            "text/plain": [
              "<Figure size 288x288 with 1 Axes>"
            ]
          },
          "metadata": {
            "tags": []
          }
        }
      ]
    },
    {
      "cell_type": "code",
      "metadata": {
        "id": "X8PXtnEEwxjW",
        "colab_type": "code",
        "outputId": "5d1fe243-b465-46ec-acf7-47a7eed67098",
        "colab": {
          "base_uri": "https://localhost:8080/",
          "height": 35
        }
      },
      "source": [
        "# to input img file and output label file\n",
        "tfm_lbl = lambda x: path_lbl/f\"{x.stem}_P{x.suffix}\"\n",
        "tfm_lbl(fnames[0])"
      ],
      "execution_count": 9,
      "outputs": [
        {
          "output_type": "execute_result",
          "data": {
            "text/plain": [
              "PosixPath('/root/.fastai/data/camvid_tiny/labels/0016E5_01920_P.png')"
            ]
          },
          "metadata": {
            "tags": []
          },
          "execution_count": 9
        }
      ]
    },
    {
      "cell_type": "code",
      "metadata": {
        "id": "vatNj2BJ4wS8",
        "colab_type": "code",
        "outputId": "cefe4bcc-f37f-46e6-ab19-477f2f8e76f4",
        "colab": {
          "base_uri": "https://localhost:8080/",
          "height": 198
        }
      },
      "source": [
        "mask = open_mask(tfm_lbl(fnames[0]))\n",
        "mask.show(figsize=(4,4))"
      ],
      "execution_count": 10,
      "outputs": [
        {
          "output_type": "display_data",
          "data": {
            "image/png": "[encoded data removed]",
            "text/plain": [
              "<Figure size 288x288 with 1 Axes>"
            ]
          },
          "metadata": {
            "tags": []
          }
        }
      ]
    },
    {
      "cell_type": "markdown",
      "metadata": {
        "id": "EbL6cQiW5M_D",
        "colab_type": "text"
      },
      "source": [
        "// path, data and label match"
      ]
    },
    {
      "cell_type": "markdown",
      "metadata": {
        "id": "i--t7ZIF5WRH",
        "colab_type": "text"
      },
      "source": [
        "now make databunch using this\n",
        "there were 2 process.... but why did they this?"
      ]
    },
    {
      "cell_type": "code",
      "metadata": {
        "id": "D5KNYKO65bdV",
        "colab_type": "code",
        "outputId": "d7de719f-b080-4ed8-f453-c6d483a2ea37",
        "colab": {
          "base_uri": "https://localhost:8080/",
          "height": 35
        }
      },
      "source": [
        "img.size, img.shape"
      ],
      "execution_count": 11,
      "outputs": [
        {
          "output_type": "execute_result",
          "data": {
            "text/plain": [
              "(torch.Size([96, 128]), torch.Size([3, 96, 128]))"
            ]
          },
          "metadata": {
            "tags": []
          },
          "execution_count": 11
        }
      ]
    },
    {
      "cell_type": "code",
      "metadata": {
        "id": "76sy_EQT5bkz",
        "colab_type": "code",
        "outputId": "76c12395-54b2-489c-cc02-9f5b3d0525ba",
        "colab": {
          "base_uri": "https://localhost:8080/",
          "height": 415
        }
      },
      "source": [
        "img.data"
      ],
      "execution_count": 12,
      "outputs": [
        {
          "output_type": "execute_result",
          "data": {
            "text/plain": [
              "tensor([[[0.6980, 1.0000, 0.9451,  ..., 0.9961, 0.9922, 0.9804],\n",
              "         [0.5294, 0.9961, 0.9529,  ..., 0.9922, 0.9843, 0.9882],\n",
              "         [0.3647, 0.9020, 0.9059,  ..., 0.9922, 0.9882, 0.9725],\n",
              "         ...,\n",
              "         [0.3176, 0.0824, 0.1451,  ..., 0.2196, 0.2196, 0.2235],\n",
              "         [0.2039, 0.0863, 0.1725,  ..., 0.2157, 0.1961, 0.2078],\n",
              "         [0.2510, 0.1961, 0.0824,  ..., 0.2157, 0.2039, 0.2039]],\n",
              "\n",
              "        [[0.6863, 0.9961, 0.9255,  ..., 0.9647, 0.9569, 0.9412],\n",
              "         [0.5216, 0.9922, 0.9333,  ..., 0.9608, 0.9490, 0.9490],\n",
              "         [0.3529, 0.8863, 0.8784,  ..., 0.9569, 0.9490, 0.9373],\n",
              "         ...,\n",
              "         [0.3216, 0.0824, 0.1490,  ..., 0.2471, 0.2392, 0.2392],\n",
              "         [0.2118, 0.0863, 0.1686,  ..., 0.2353, 0.2235, 0.2353],\n",
              "         [0.2510, 0.2000, 0.0863,  ..., 0.2353, 0.2314, 0.2314]],\n",
              "\n",
              "        [[0.7059, 1.0000, 0.9647,  ..., 0.8196, 0.8196, 0.8039],\n",
              "         [0.5412, 1.0000, 0.9686,  ..., 0.8196, 0.8118, 0.8118],\n",
              "         [0.3569, 0.9020, 0.9255,  ..., 0.8196, 0.8157, 0.8078],\n",
              "         ...,\n",
              "         [0.3059, 0.0902, 0.1686,  ..., 0.2510, 0.2510, 0.2510],\n",
              "         [0.2275, 0.0980, 0.1765,  ..., 0.2549, 0.2392, 0.2510],\n",
              "         [0.2510, 0.1765, 0.1020,  ..., 0.2549, 0.2510, 0.2431]]])"
            ]
          },
          "metadata": {
            "tags": []
          },
          "execution_count": 12
        }
      ]
    },
    {
      "cell_type": "code",
      "metadata": {
        "id": "0n_G3F0R6nhS",
        "colab_type": "code",
        "colab": {}
      },
      "source": [
        "src_size = np.array(img.size)"
      ],
      "execution_count": 0,
      "outputs": []
    },
    {
      "cell_type": "code",
      "metadata": {
        "id": "iSNypLeJRoou",
        "colab_type": "code",
        "outputId": "4e20f5e2-9eec-4dc2-8def-922184d66aaa",
        "colab": {
          "base_uri": "https://localhost:8080/",
          "height": 35
        }
      },
      "source": [
        "free= gpu_mem_get_free_no_cache()\n",
        "if free>8400: bs=8\n",
        "else:\n",
        "    bs=4\n",
        "print(f\"Free memory:{free}MB free momory, you can use {bs} batch size\")    "
      ],
      "execution_count": 19,
      "outputs": [
        {
          "output_type": "stream",
          "text": [
            "Free memory:16270MB free momory, you can use 8 batch size\n"
          ],
          "name": "stdout"
        }
      ]
    },
    {
      "cell_type": "markdown",
      "metadata": {
        "id": "FkRl8MOZ6gU9",
        "colab_type": "text"
      },
      "source": [
        "Here we need to use tfm_y=True in the transform call because we need the same transforms to be applied to the target mask as were applied to the image. Side note: For further control over which transformations are used on the target, each transformation has a use_on_y parameter\n",
        "\n",
        "Source: [fast.ai](https://docs.fast.ai/data_block.html)"
      ]
    },
    {
      "cell_type": "markdown",
      "metadata": {
        "id": "FXll5LQlFkob",
        "colab_type": "text"
      },
      "source": [
        "- Option [split data: train/validation](https://docs.fast.ai/data_block.html#Step-2:-Split-the-data-between-the-training-and-the-validation-set)"
      ]
    },
    {
      "cell_type": "code",
      "metadata": {
        "id": "11Q2MddBBM4w",
        "colab_type": "code",
        "outputId": "c45ffbbb-630e-4739-faa8-ee802dcc9097",
        "colab": {
          "base_uri": "https://localhost:8080/",
          "height": 345
        }
      },
      "source": [
        "src = (SegmentationItemList.from_folder(path_img)\n",
        "        .split_by_rand_pct()\n",
        "        .label_from_func(tfm_lbl))"
      ],
      "execution_count": 15,
      "outputs": [
        {
          "output_type": "error",
          "ename": "TypeError",
          "evalue": "ignored",
          "traceback": [
            "\u001b[0;31m---------------------------------------------------------------------------\u001b[0m",
            "\u001b[0;31mTypeError\u001b[0m                                 Traceback (most recent call last)",
            "\u001b[0;32m<ipython-input-15-d4528ff87c60>\u001b[0m in \u001b[0;36m<module>\u001b[0;34m()\u001b[0m\n\u001b[1;32m      1\u001b[0m src = (SegmentationItemList.from_folder(path_img)\n\u001b[1;32m      2\u001b[0m         \u001b[0;34m.\u001b[0m\u001b[0msplit_by_rand_pct\u001b[0m\u001b[0;34m(\u001b[0m\u001b[0;34m)\u001b[0m\u001b[0;34m\u001b[0m\u001b[0;34m\u001b[0m\u001b[0m\n\u001b[0;32m----> 3\u001b[0;31m         .label_from_func(tfm_lbl))\n\u001b[0m",
            "\u001b[0;32m/usr/local/lib/python3.6/dist-packages/fastai/data_block.py\u001b[0m in \u001b[0;36m_inner\u001b[0;34m(*args, **kwargs)\u001b[0m\n\u001b[1;32m    478\u001b[0m             \u001b[0mself\u001b[0m\u001b[0;34m.\u001b[0m\u001b[0mvalid\u001b[0m \u001b[0;34m=\u001b[0m \u001b[0mfv\u001b[0m\u001b[0;34m(\u001b[0m\u001b[0;34m*\u001b[0m\u001b[0margs\u001b[0m\u001b[0;34m,\u001b[0m \u001b[0mfrom_item_lists\u001b[0m\u001b[0;34m=\u001b[0m\u001b[0;32mTrue\u001b[0m\u001b[0;34m,\u001b[0m \u001b[0;34m**\u001b[0m\u001b[0mkwargs\u001b[0m\u001b[0;34m)\u001b[0m\u001b[0;34m\u001b[0m\u001b[0;34m\u001b[0m\u001b[0m\n\u001b[1;32m    479\u001b[0m             \u001b[0mself\u001b[0m\u001b[0;34m.\u001b[0m\u001b[0m__class__\u001b[0m \u001b[0;34m=\u001b[0m \u001b[0mLabelLists\u001b[0m\u001b[0;34m\u001b[0m\u001b[0;34m\u001b[0m\u001b[0m\n\u001b[0;32m--> 480\u001b[0;31m             \u001b[0mself\u001b[0m\u001b[0;34m.\u001b[0m\u001b[0mprocess\u001b[0m\u001b[0;34m(\u001b[0m\u001b[0;34m)\u001b[0m\u001b[0;34m\u001b[0m\u001b[0;34m\u001b[0m\u001b[0m\n\u001b[0m\u001b[1;32m    481\u001b[0m             \u001b[0;32mreturn\u001b[0m \u001b[0mself\u001b[0m\u001b[0;34m\u001b[0m\u001b[0;34m\u001b[0m\u001b[0m\n\u001b[1;32m    482\u001b[0m         \u001b[0;32mreturn\u001b[0m \u001b[0m_inner\u001b[0m\u001b[0;34m\u001b[0m\u001b[0;34m\u001b[0m\u001b[0m\n",
            "\u001b[0;32m/usr/local/lib/python3.6/dist-packages/fastai/data_block.py\u001b[0m in \u001b[0;36mprocess\u001b[0;34m(self)\u001b[0m\n\u001b[1;32m    532\u001b[0m         \u001b[0;34m\"Process the inner datasets.\"\u001b[0m\u001b[0;34m\u001b[0m\u001b[0;34m\u001b[0m\u001b[0m\n\u001b[1;32m    533\u001b[0m         \u001b[0mxp\u001b[0m\u001b[0;34m,\u001b[0m\u001b[0myp\u001b[0m \u001b[0;34m=\u001b[0m \u001b[0mself\u001b[0m\u001b[0;34m.\u001b[0m\u001b[0mget_processors\u001b[0m\u001b[0;34m(\u001b[0m\u001b[0;34m)\u001b[0m\u001b[0;34m\u001b[0m\u001b[0;34m\u001b[0m\u001b[0m\n\u001b[0;32m--> 534\u001b[0;31m         \u001b[0;32mfor\u001b[0m \u001b[0mds\u001b[0m\u001b[0;34m,\u001b[0m\u001b[0mn\u001b[0m \u001b[0;32min\u001b[0m \u001b[0mzip\u001b[0m\u001b[0;34m(\u001b[0m\u001b[0mself\u001b[0m\u001b[0;34m.\u001b[0m\u001b[0mlists\u001b[0m\u001b[0;34m,\u001b[0m \u001b[0;34m[\u001b[0m\u001b[0;34m'train'\u001b[0m\u001b[0;34m,\u001b[0m\u001b[0;34m'valid'\u001b[0m\u001b[0;34m,\u001b[0m\u001b[0;34m'test'\u001b[0m\u001b[0;34m]\u001b[0m\u001b[0;34m)\u001b[0m\u001b[0;34m:\u001b[0m \u001b[0mds\u001b[0m\u001b[0;34m.\u001b[0m\u001b[0mprocess\u001b[0m\u001b[0;34m(\u001b[0m\u001b[0mxp\u001b[0m\u001b[0;34m,\u001b[0m \u001b[0myp\u001b[0m\u001b[0;34m,\u001b[0m \u001b[0mname\u001b[0m\u001b[0;34m=\u001b[0m\u001b[0mn\u001b[0m\u001b[0;34m)\u001b[0m\u001b[0;34m\u001b[0m\u001b[0;34m\u001b[0m\u001b[0m\n\u001b[0m\u001b[1;32m    535\u001b[0m         \u001b[0;31m#progress_bar clear the outputs so in some case warnings issued during processing disappear.\u001b[0m\u001b[0;34m\u001b[0m\u001b[0;34m\u001b[0m\u001b[0;34m\u001b[0m\u001b[0m\n\u001b[1;32m    536\u001b[0m         \u001b[0;32mfor\u001b[0m \u001b[0mds\u001b[0m \u001b[0;32min\u001b[0m \u001b[0mself\u001b[0m\u001b[0;34m.\u001b[0m\u001b[0mlists\u001b[0m\u001b[0;34m:\u001b[0m\u001b[0;34m\u001b[0m\u001b[0;34m\u001b[0m\u001b[0m\n",
            "\u001b[0;32m/usr/local/lib/python3.6/dist-packages/fastai/data_block.py\u001b[0m in \u001b[0;36mprocess\u001b[0;34m(self, xp, yp, name, max_warn_items)\u001b[0m\n\u001b[1;32m    698\u001b[0m     \u001b[0;32mdef\u001b[0m \u001b[0mprocess\u001b[0m\u001b[0;34m(\u001b[0m\u001b[0mself\u001b[0m\u001b[0;34m,\u001b[0m \u001b[0mxp\u001b[0m\u001b[0;34m:\u001b[0m\u001b[0mPreProcessor\u001b[0m\u001b[0;34m=\u001b[0m\u001b[0;32mNone\u001b[0m\u001b[0;34m,\u001b[0m \u001b[0myp\u001b[0m\u001b[0;34m:\u001b[0m\u001b[0mPreProcessor\u001b[0m\u001b[0;34m=\u001b[0m\u001b[0;32mNone\u001b[0m\u001b[0;34m,\u001b[0m \u001b[0mname\u001b[0m\u001b[0;34m:\u001b[0m\u001b[0mstr\u001b[0m\u001b[0;34m=\u001b[0m\u001b[0;32mNone\u001b[0m\u001b[0;34m,\u001b[0m \u001b[0mmax_warn_items\u001b[0m\u001b[0;34m:\u001b[0m\u001b[0mint\u001b[0m\u001b[0;34m=\u001b[0m\u001b[0;36m5\u001b[0m\u001b[0;34m)\u001b[0m\u001b[0;34m:\u001b[0m\u001b[0;34m\u001b[0m\u001b[0;34m\u001b[0m\u001b[0m\n\u001b[1;32m    699\u001b[0m         \u001b[0;34m\"Launch the processing on `self.x` and `self.y` with `xp` and `yp`.\"\u001b[0m\u001b[0;34m\u001b[0m\u001b[0;34m\u001b[0m\u001b[0m\n\u001b[0;32m--> 700\u001b[0;31m         \u001b[0mself\u001b[0m\u001b[0;34m.\u001b[0m\u001b[0my\u001b[0m\u001b[0;34m.\u001b[0m\u001b[0mprocess\u001b[0m\u001b[0;34m(\u001b[0m\u001b[0myp\u001b[0m\u001b[0;34m)\u001b[0m\u001b[0;34m\u001b[0m\u001b[0;34m\u001b[0m\u001b[0m\n\u001b[0m\u001b[1;32m    701\u001b[0m         \u001b[0;32mif\u001b[0m \u001b[0mgetattr\u001b[0m\u001b[0;34m(\u001b[0m\u001b[0mself\u001b[0m\u001b[0;34m.\u001b[0m\u001b[0my\u001b[0m\u001b[0;34m,\u001b[0m \u001b[0;34m'filter_missing_y'\u001b[0m\u001b[0;34m,\u001b[0m \u001b[0;32mFalse\u001b[0m\u001b[0;34m)\u001b[0m\u001b[0;34m:\u001b[0m\u001b[0;34m\u001b[0m\u001b[0;34m\u001b[0m\u001b[0m\n\u001b[1;32m    702\u001b[0m             \u001b[0mfilt\u001b[0m \u001b[0;34m=\u001b[0m \u001b[0marray\u001b[0m\u001b[0;34m(\u001b[0m\u001b[0;34m[\u001b[0m\u001b[0mo\u001b[0m \u001b[0;32mis\u001b[0m \u001b[0;32mNone\u001b[0m \u001b[0;32mfor\u001b[0m \u001b[0mo\u001b[0m \u001b[0;32min\u001b[0m \u001b[0mself\u001b[0m\u001b[0;34m.\u001b[0m\u001b[0my\u001b[0m\u001b[0;34m.\u001b[0m\u001b[0mitems\u001b[0m\u001b[0;34m]\u001b[0m\u001b[0;34m)\u001b[0m\u001b[0;34m\u001b[0m\u001b[0;34m\u001b[0m\u001b[0m\n",
            "\u001b[0;32m/usr/local/lib/python3.6/dist-packages/fastai/data_block.py\u001b[0m in \u001b[0;36mprocess\u001b[0;34m(self, processor)\u001b[0m\n\u001b[1;32m     82\u001b[0m         \u001b[0;32mif\u001b[0m \u001b[0mprocessor\u001b[0m \u001b[0;32mis\u001b[0m \u001b[0;32mnot\u001b[0m \u001b[0;32mNone\u001b[0m\u001b[0;34m:\u001b[0m \u001b[0mself\u001b[0m\u001b[0;34m.\u001b[0m\u001b[0mprocessor\u001b[0m \u001b[0;34m=\u001b[0m \u001b[0mprocessor\u001b[0m\u001b[0;34m\u001b[0m\u001b[0;34m\u001b[0m\u001b[0m\n\u001b[1;32m     83\u001b[0m         \u001b[0mself\u001b[0m\u001b[0;34m.\u001b[0m\u001b[0mprocessor\u001b[0m \u001b[0;34m=\u001b[0m \u001b[0mlistify\u001b[0m\u001b[0;34m(\u001b[0m\u001b[0mself\u001b[0m\u001b[0;34m.\u001b[0m\u001b[0mprocessor\u001b[0m\u001b[0;34m)\u001b[0m\u001b[0;34m\u001b[0m\u001b[0;34m\u001b[0m\u001b[0m\n\u001b[0;32m---> 84\u001b[0;31m         \u001b[0;32mfor\u001b[0m \u001b[0mp\u001b[0m \u001b[0;32min\u001b[0m \u001b[0mself\u001b[0m\u001b[0;34m.\u001b[0m\u001b[0mprocessor\u001b[0m\u001b[0;34m:\u001b[0m \u001b[0mp\u001b[0m\u001b[0;34m.\u001b[0m\u001b[0mprocess\u001b[0m\u001b[0;34m(\u001b[0m\u001b[0mself\u001b[0m\u001b[0;34m)\u001b[0m\u001b[0;34m\u001b[0m\u001b[0;34m\u001b[0m\u001b[0m\n\u001b[0m\u001b[1;32m     85\u001b[0m         \u001b[0;32mreturn\u001b[0m \u001b[0mself\u001b[0m\u001b[0;34m\u001b[0m\u001b[0;34m\u001b[0m\u001b[0m\n\u001b[1;32m     86\u001b[0m \u001b[0;34m\u001b[0m\u001b[0m\n",
            "\u001b[0;32m/usr/local/lib/python3.6/dist-packages/fastai/vision/data.py\u001b[0m in \u001b[0;36mprocess\u001b[0;34m(self, ds)\u001b[0m\n\u001b[1;32m    371\u001b[0m     \u001b[0;34m\"`PreProcessor` that stores the classes for segmentation.\"\u001b[0m\u001b[0;34m\u001b[0m\u001b[0;34m\u001b[0m\u001b[0m\n\u001b[1;32m    372\u001b[0m     \u001b[0;32mdef\u001b[0m \u001b[0m__init__\u001b[0m\u001b[0;34m(\u001b[0m\u001b[0mself\u001b[0m\u001b[0;34m,\u001b[0m \u001b[0mds\u001b[0m\u001b[0;34m:\u001b[0m\u001b[0mItemList\u001b[0m\u001b[0;34m)\u001b[0m\u001b[0;34m:\u001b[0m \u001b[0mself\u001b[0m\u001b[0;34m.\u001b[0m\u001b[0mclasses\u001b[0m \u001b[0;34m=\u001b[0m \u001b[0mds\u001b[0m\u001b[0;34m.\u001b[0m\u001b[0mclasses\u001b[0m\u001b[0;34m\u001b[0m\u001b[0;34m\u001b[0m\u001b[0m\n\u001b[0;32m--> 373\u001b[0;31m     \u001b[0;32mdef\u001b[0m \u001b[0mprocess\u001b[0m\u001b[0;34m(\u001b[0m\u001b[0mself\u001b[0m\u001b[0;34m,\u001b[0m \u001b[0mds\u001b[0m\u001b[0;34m:\u001b[0m\u001b[0mItemList\u001b[0m\u001b[0;34m)\u001b[0m\u001b[0;34m:\u001b[0m  \u001b[0mds\u001b[0m\u001b[0;34m.\u001b[0m\u001b[0mclasses\u001b[0m\u001b[0;34m,\u001b[0m\u001b[0mds\u001b[0m\u001b[0;34m.\u001b[0m\u001b[0mc\u001b[0m \u001b[0;34m=\u001b[0m \u001b[0mself\u001b[0m\u001b[0;34m.\u001b[0m\u001b[0mclasses\u001b[0m\u001b[0;34m,\u001b[0m\u001b[0mlen\u001b[0m\u001b[0;34m(\u001b[0m\u001b[0mself\u001b[0m\u001b[0;34m.\u001b[0m\u001b[0mclasses\u001b[0m\u001b[0;34m)\u001b[0m\u001b[0;34m\u001b[0m\u001b[0;34m\u001b[0m\u001b[0m\n\u001b[0m\u001b[1;32m    374\u001b[0m \u001b[0;34m\u001b[0m\u001b[0m\n\u001b[1;32m    375\u001b[0m \u001b[0;32mclass\u001b[0m \u001b[0mSegmentationLabelList\u001b[0m\u001b[0;34m(\u001b[0m\u001b[0mImageList\u001b[0m\u001b[0;34m)\u001b[0m\u001b[0;34m:\u001b[0m\u001b[0;34m\u001b[0m\u001b[0;34m\u001b[0m\u001b[0m\n",
            "\u001b[0;31mTypeError\u001b[0m: object of type 'NoneType' has no len()"
          ]
        }
      ]
    },
    {
      "cell_type": "markdown",
      "metadata": {
        "id": "tB9WKgIOF9VL",
        "colab_type": "text"
      },
      "source": [
        "Actually didn't render class parameter on purpose because it was somewhat not intuitive(or confusing) to give segment classes argument at function which matches images and masks.\n",
        "\n",
        "\n",
        "And got typeError. Somewhere (maybe) `/usr/local/lib/python3.6/dist-packages/fastai/vision/data.py` check empty or not"
      ]
    },
    {
      "cell_type": "code",
      "metadata": {
        "id": "YnGuBr1wHzCS",
        "colab_type": "code",
        "colab": {}
      },
      "source": [
        "classes = np.loadtxt(path/'codes.txt', dtype=str)"
      ],
      "execution_count": 0,
      "outputs": []
    },
    {
      "cell_type": "code",
      "metadata": {
        "id": "MeS83RZVDtDu",
        "colab_type": "code",
        "colab": {}
      },
      "source": [
        "src = (SegmentationItemList.from_folder(path_img)\n",
        "        .split_by_rand_pct()\n",
        "        .label_from_func(tfm_lbl, classes = classes))"
      ],
      "execution_count": 0,
      "outputs": []
    },
    {
      "cell_type": "markdown",
      "metadata": {
        "id": "Pmqpm46OO1w_",
        "colab_type": "text"
      },
      "source": [
        "## Quations\n",
        "1. Why do we need size when do the transform?\n",
        "2. This is method from `segmentation label list`, that means y should change depends on it. why that parameter needs?"
      ]
    },
    {
      "cell_type": "code",
      "metadata": {
        "id": "imMEJzVyNfq2",
        "colab_type": "code",
        "colab": {}
      },
      "source": [
        "data = src.transform(get_transforms(), size = src_size//2, tfm_y = True).databunch(bs=bs).normalize(imagenet_stats)"
      ],
      "execution_count": 0,
      "outputs": []
    },
    {
      "cell_type": "code",
      "metadata": {
        "id": "FxMiMoDFPZ6d",
        "colab_type": "code",
        "outputId": "3fad28d6-87e2-4167-c328-6b4b7f60c3e4",
        "colab": {
          "base_uri": "https://localhost:8080/",
          "height": 273
        }
      },
      "source": [
        "doc(get_transforms)"
      ],
      "execution_count": 19,
      "outputs": [
        {
          "output_type": "display_data",
          "data": {
            "text/html": [
              "<h4 id=\"get_transforms\" class=\"doc_header\"><code>get_transforms</code><a href=\"https://github.com/fastai/fastai/blob/master/fastai/vision/transform.py#L308\" class=\"source_link\" style=\"float:right\">[source]</a><a class=\"source_link\" data-toggle=\"collapse\" data-target=\"#get_transforms-pytest\" style=\"float:right; padding-right:10px\">[test]</a></h4><blockquote><p><code>get_transforms</code>(<strong><code>do_flip</code></strong>:<code>bool</code>=<strong><em><code>True</code></em></strong>, <strong><code>flip_vert</code></strong>:<code>bool</code>=<strong><em><code>False</code></em></strong>, <strong><code>max_rotate</code></strong>:<code>float</code>=<strong><em><code>10.0</code></em></strong>, <strong><code>max_zoom</code></strong>:<code>float</code>=<strong><em><code>1.1</code></em></strong>, <strong><code>max_lighting</code></strong>:<code>float</code>=<strong><em><code>0.2</code></em></strong>, <strong><code>max_warp</code></strong>:<code>float</code>=<strong><em><code>0.2</code></em></strong>, <strong><code>p_affine</code></strong>:<code>float</code>=<strong><em><code>0.75</code></em></strong>, <strong><code>p_lighting</code></strong>:<code>float</code>=<strong><em><code>0.75</code></em></strong>, <strong><code>xtra_tfms</code></strong>:<code>Optional</code>[<code>Collection</code>[<a href=\"https://docs.fast.ai/vision.image.html#Transform\"><code>Transform</code></a>]]=<strong><em><code>None</code></em></strong>) → <code>Collection</code>[<a href=\"https://docs.fast.ai/vision.image.html#Transform\"><code>Transform</code></a>]</p>\n",
              "</blockquote>\n",
              "<div class=\"collapse\" id=\"get_transforms-pytest\"><div class=\"card card-body pytest_card\"><a type=\"button\" data-toggle=\"collapse\" data-target=\"#get_transforms-pytest\" class=\"close\" aria-label=\"Close\"><span aria-hidden=\"true\">&times;</span></a><p>Tests found for <code>get_transforms</code>:</p><ul><li><code>pytest -sv tests/test_vision_data.py::test_image_to_image_different_tfms</code> <a href=\"https://github.com/fastai/fastai/blob/master/tests/test_vision_data.py#L333\" class=\"source_link\" style=\"float:right\">[source]</a></li><li><code>pytest -sv tests/test_vision_data.py::test_image_to_image_different_y_size</code> <a href=\"https://github.com/fastai/fastai/blob/master/tests/test_vision_data.py#L318\" class=\"source_link\" style=\"float:right\">[source]</a></li></ul><p>To run tests please refer to this <a href=\"/dev/test.html#quick-guide\">guide</a>.</p></div></div><p>Utility func to easily create a list of flip, rotate, <a href=\"https://docs.fast.ai/vision.transform.html#_zoom\"><code>zoom</code></a>, warp, lighting transforms.</p>\n",
              "<p><a href=\"https://docs.fast.ai/vision.transform.html#get_transforms\" target=\"_blank\" rel=\"noreferrer noopener\">Show in docs</a></p>\n"
            ],
            "text/plain": [
              "<IPython.core.display.HTML object>"
            ]
          },
          "metadata": {
            "tags": []
          }
        }
      ]
    },
    {
      "cell_type": "code",
      "metadata": {
        "id": "Glt-KgHBcEkY",
        "colab_type": "code",
        "outputId": "3039cead-9198-4258-9649-2f180e72f8a9",
        "colab": {
          "base_uri": "https://localhost:8080/",
          "height": 35
        }
      },
      "source": [
        "# defining accuracy for camvid\n",
        "codetoid = {v:idx for idx, v in enumerate(classes)}\n",
        "void_id = codetoid['Void']\n",
        "void_id"
      ],
      "execution_count": 15,
      "outputs": [
        {
          "output_type": "execute_result",
          "data": {
            "text/plain": [
              "30"
            ]
          },
          "metadata": {
            "tags": []
          },
          "execution_count": 15
        }
      ]
    },
    {
      "cell_type": "code",
      "metadata": {
        "id": "b5uwIIYic8Tv",
        "colab_type": "code",
        "colab": {}
      },
      "source": [
        "def camvid_acc(predict, target):\n",
        "    target = target.squeeze(1)\n",
        "    mask = target != void_id\n",
        "    return (predict.argmax(dim=1)[mask]==target[mask]).float().mean()\n",
        "# means if target void, predict will become vacant tensor, and if not will print their own value"
      ],
      "execution_count": 0,
      "outputs": []
    },
    {
      "cell_type": "code",
      "metadata": {
        "id": "6L6DAt6EeX9i",
        "colab_type": "code",
        "outputId": "2016412d-30c4-4fdd-c87c-91658ee5c032",
        "colab": {
          "base_uri": "https://localhost:8080/",
          "height": 35
        }
      },
      "source": [
        "np.random.seed(0)\n",
        "a = torch.tensor(np.random.rand(22,1)).argmax(dim=0); a\n",
        "a[True]\n",
        "a[False]"
      ],
      "execution_count": 22,
      "outputs": [
        {
          "output_type": "execute_result",
          "data": {
            "text/plain": [
              "tensor([20])"
            ]
          },
          "metadata": {
            "tags": []
          },
          "execution_count": 22
        },
        {
          "output_type": "execute_result",
          "data": {
            "text/plain": [
              "tensor([[20]])"
            ]
          },
          "metadata": {
            "tags": []
          },
          "execution_count": 22
        },
        {
          "output_type": "execute_result",
          "data": {
            "text/plain": [
              "tensor([], size=(0, 1), dtype=torch.int64)"
            ]
          },
          "metadata": {
            "tags": []
          },
          "execution_count": 22
        }
      ]
    },
    {
      "cell_type": "code",
      "metadata": {
        "id": "lDzXwvZaWxZg",
        "colab_type": "code",
        "colab": {}
      },
      "source": [
        "wd=1e-02\n",
        "learn = unet_learner(data, models.resnet34, wd=wd, metrics=camvid_acc)"
      ],
      "execution_count": 0,
      "outputs": []
    },
    {
      "cell_type": "markdown",
      "metadata": {
        "id": "BhOtpQR_hCqG",
        "colab_type": "text"
      },
      "source": [
        "## Quastions\n",
        "unet_learner - learn, and models.resnet 34? so that means pre-trained with resnet34 and will fine-tune with unet_learner??"
      ]
    },
    {
      "cell_type": "markdown",
      "metadata": {
        "id": "clt8Q-u-b9zG",
        "colab_type": "text"
      },
      "source": [
        "## Quation\n",
        "Why it does not removed...?"
      ]
    },
    {
      "cell_type": "code",
      "metadata": {
        "id": "lUacmf-7bPXs",
        "colab_type": "code",
        "colab": {}
      },
      "source": [
        "mask.data.shape\n",
        "mask.data.squeeze_(1)\n",
        "mask.data.shape"
      ],
      "execution_count": 0,
      "outputs": []
    },
    {
      "cell_type": "markdown",
      "metadata": {
        "id": "enYNDoWsWyG6",
        "colab_type": "text"
      },
      "source": [
        "## Learn"
      ]
    },
    {
      "cell_type": "code",
      "metadata": {
        "id": "aWU1fYZTWyz2",
        "colab_type": "code",
        "colab": {
          "base_uri": "https://localhost:8080/",
          "height": 165
        },
        "outputId": "ffaec670-9188-419d-9e7c-74ee0b9085db"
      },
      "source": [
        "learn.lr_find()"
      ],
      "execution_count": 18,
      "outputs": [
        {
          "output_type": "error",
          "ename": "NameError",
          "evalue": "ignored",
          "traceback": [
            "\u001b[0;31m---------------------------------------------------------------------------\u001b[0m",
            "\u001b[0;31mNameError\u001b[0m                                 Traceback (most recent call last)",
            "\u001b[0;32m<ipython-input-18-d81c6bd29d71>\u001b[0m in \u001b[0;36m<module>\u001b[0;34m()\u001b[0m\n\u001b[0;32m----> 1\u001b[0;31m \u001b[0mlearn\u001b[0m\u001b[0;34m.\u001b[0m\u001b[0mlr_find\u001b[0m\u001b[0;34m(\u001b[0m\u001b[0;34m)\u001b[0m\u001b[0;34m\u001b[0m\u001b[0;34m\u001b[0m\u001b[0m\n\u001b[0m",
            "\u001b[0;31mNameError\u001b[0m: name 'learn' is not defined"
          ]
        }
      ]
    },
    {
      "cell_type": "code",
      "metadata": {
        "id": "2E3bBLpmWy8H",
        "colab_type": "code",
        "colab": {
          "base_uri": "https://localhost:8080/",
          "height": 191
        },
        "outputId": "0af49ac0-e43c-4e87-94e9-163f3e00fe2a"
      },
      "source": [
        "doc(learn.recorder.plot_lr)"
      ],
      "execution_count": 25,
      "outputs": [
        {
          "output_type": "display_data",
          "data": {
            "text/html": [
              "<h4 id=\"Recorder.plot_lr\" class=\"doc_header\"><code>plot_lr</code><a href=\"https://github.com/fastai/fastai/blob/master/fastai/basic_train.py#L512\" class=\"source_link\" style=\"float:right\">[source]</a><a class=\"source_link\" data-toggle=\"collapse\" data-target=\"#Recorder-plot_lr-pytest\" style=\"float:right; padding-right:10px\">[test]</a></h4><blockquote><p><code>plot_lr</code>(<strong><code>show_moms</code></strong>=<strong><em><code>False</code></em></strong>, <strong><code>skip_start</code></strong>:<code>int</code>=<strong><em><code>0</code></em></strong>, <strong><code>skip_end</code></strong>:<code>int</code>=<strong><em><code>0</code></em></strong>, <strong><code>return_fig</code></strong>:<code>bool</code>=<strong><em><code>None</code></em></strong>) → <code>Optional</code>[<code>Figure</code>]</p>\n",
              "</blockquote>\n",
              "<div class=\"collapse\" id=\"Recorder-plot_lr-pytest\"><div class=\"card card-body pytest_card\"><a type=\"button\" data-toggle=\"collapse\" data-target=\"#Recorder-plot_lr-pytest\" class=\"close\" aria-label=\"Close\"><span aria-hidden=\"true\">&times;</span></a><p>No tests found for <code>plot_lr</code>. To contribute a test please refer to <a href=\"/dev/test.html\">this guide</a> and <a href=\"https://forums.fast.ai/t/improving-expanding-functional-tests/32929\">this discussion</a>.</p></div></div><p>Plot learning rate, <code>show_moms</code> to include momentum.</p>\n",
              "<p><a href=\"https://docs.fast.ai/basic_train.html#Recorder.plot_lr\" target=\"_blank\" rel=\"noreferrer noopener\">Show in docs</a></p>\n"
            ],
            "text/plain": [
              "<IPython.core.display.HTML object>"
            ]
          },
          "metadata": {
            "tags": []
          }
        }
      ]
    },
    {
      "cell_type": "code",
      "metadata": {
        "id": "vbzTQSSbWzD2",
        "colab_type": "code",
        "colab": {
          "base_uri": "https://localhost:8080/",
          "height": 191
        },
        "outputId": "3fc0dd47-bc02-4de8-ce7f-8bbf2b0a60e6"
      },
      "source": [
        "doc(learn.recorder.plot)"
      ],
      "execution_count": 26,
      "outputs": [
        {
          "output_type": "display_data",
          "data": {
            "text/html": [
              "<h4 id=\"Recorder.plot\" class=\"doc_header\"><code>plot</code><a href=\"https://github.com/fastai/fastai/blob/master/fastai/basic_train.py#L540\" class=\"source_link\" style=\"float:right\">[source]</a><a class=\"source_link\" data-toggle=\"collapse\" data-target=\"#Recorder-plot-pytest\" style=\"float:right; padding-right:10px\">[test]</a></h4><blockquote><p><code>plot</code>(<strong><code>skip_start</code></strong>:<code>int</code>=<strong><em><code>10</code></em></strong>, <strong><code>skip_end</code></strong>:<code>int</code>=<strong><em><code>5</code></em></strong>, <strong><code>suggestion</code></strong>:<code>bool</code>=<strong><em><code>False</code></em></strong>, <strong><code>return_fig</code></strong>:<code>bool</code>=<strong><em><code>None</code></em></strong>, <strong>**<code>kwargs</code></strong>) → <code>Optional</code>[<code>Figure</code>]</p>\n",
              "</blockquote>\n",
              "<div class=\"collapse\" id=\"Recorder-plot-pytest\"><div class=\"card card-body pytest_card\"><a type=\"button\" data-toggle=\"collapse\" data-target=\"#Recorder-plot-pytest\" class=\"close\" aria-label=\"Close\"><span aria-hidden=\"true\">&times;</span></a><p>No tests found for <code>plot</code>. To contribute a test please refer to <a href=\"/dev/test.html\">this guide</a> and <a href=\"https://forums.fast.ai/t/improving-expanding-functional-tests/32929\">this discussion</a>.</p></div></div><p>Plot learning rate and losses, trimmed between <code>skip_start</code> and <code>skip_end</code>. Optionally plot and return min gradient</p>\n",
              "<p><a href=\"https://docs.fast.ai/basic_train.html#Recorder.plot\" target=\"_blank\" rel=\"noreferrer noopener\">Show in docs</a></p>\n"
            ],
            "text/plain": [
              "<IPython.core.display.HTML object>"
            ]
          },
          "metadata": {
            "tags": []
          }
        }
      ]
    },
    {
      "cell_type": "code",
      "metadata": {
        "id": "QCF0qqo-WzLM",
        "colab_type": "code",
        "colab": {}
      },
      "source": [
        "learn.recorder.plot(suggestion=True)"
      ],
      "execution_count": 0,
      "outputs": []
    },
    {
      "cell_type": "code",
      "metadata": {
        "id": "du8VMOse7aPG",
        "colab_type": "code",
        "colab": {
          "base_uri": "https://localhost:8080/",
          "height": 348
        },
        "outputId": "89276544-c0d9-4ff2-a127-c78f8ac0f965"
      },
      "source": [
        "lr = 3.31E-04\n",
        "learn.fit_one_cycle(10, slice(lr))"
      ],
      "execution_count": 22,
      "outputs": [
        {
          "output_type": "display_data",
          "data": {
            "text/html": [
              "<table border=\"1\" class=\"dataframe\">\n",
              "  <thead>\n",
              "    <tr style=\"text-align: left;\">\n",
              "      <th>epoch</th>\n",
              "      <th>train_loss</th>\n",
              "      <th>valid_loss</th>\n",
              "      <th>camvid_acc</th>\n",
              "      <th>time</th>\n",
              "    </tr>\n",
              "  </thead>\n",
              "  <tbody>\n",
              "    <tr>\n",
              "      <td>0</td>\n",
              "      <td>3.562540</td>\n",
              "      <td>2.875916</td>\n",
              "      <td>0.213501</td>\n",
              "      <td>00:02</td>\n",
              "    </tr>\n",
              "    <tr>\n",
              "      <td>1</td>\n",
              "      <td>2.852880</td>\n",
              "      <td>1.748502</td>\n",
              "      <td>0.594681</td>\n",
              "      <td>00:00</td>\n",
              "    </tr>\n",
              "    <tr>\n",
              "      <td>2</td>\n",
              "      <td>2.342068</td>\n",
              "      <td>1.395652</td>\n",
              "      <td>0.609027</td>\n",
              "      <td>00:00</td>\n",
              "    </tr>\n",
              "    <tr>\n",
              "      <td>3</td>\n",
              "      <td>2.007456</td>\n",
              "      <td>1.184979</td>\n",
              "      <td>0.690197</td>\n",
              "      <td>00:00</td>\n",
              "    </tr>\n",
              "    <tr>\n",
              "      <td>4</td>\n",
              "      <td>1.794750</td>\n",
              "      <td>1.107142</td>\n",
              "      <td>0.707532</td>\n",
              "      <td>00:00</td>\n",
              "    </tr>\n",
              "    <tr>\n",
              "      <td>5</td>\n",
              "      <td>1.640689</td>\n",
              "      <td>1.030977</td>\n",
              "      <td>0.734819</td>\n",
              "      <td>00:00</td>\n",
              "    </tr>\n",
              "    <tr>\n",
              "      <td>6</td>\n",
              "      <td>1.503294</td>\n",
              "      <td>0.965888</td>\n",
              "      <td>0.768754</td>\n",
              "      <td>00:00</td>\n",
              "    </tr>\n",
              "    <tr>\n",
              "      <td>7</td>\n",
              "      <td>1.394088</td>\n",
              "      <td>0.915061</td>\n",
              "      <td>0.782429</td>\n",
              "      <td>00:00</td>\n",
              "    </tr>\n",
              "    <tr>\n",
              "      <td>8</td>\n",
              "      <td>1.297637</td>\n",
              "      <td>0.896237</td>\n",
              "      <td>0.786982</td>\n",
              "      <td>00:00</td>\n",
              "    </tr>\n",
              "    <tr>\n",
              "      <td>9</td>\n",
              "      <td>1.221316</td>\n",
              "      <td>0.890409</td>\n",
              "      <td>0.789179</td>\n",
              "      <td>00:00</td>\n",
              "    </tr>\n",
              "  </tbody>\n",
              "</table>"
            ],
            "text/plain": [
              "<IPython.core.display.HTML object>"
            ]
          },
          "metadata": {
            "tags": []
          }
        }
      ]
    },
    {
      "cell_type": "code",
      "metadata": {
        "id": "c_S_iAgq8MZS",
        "colab_type": "code",
        "colab": {}
      },
      "source": [
        "learn.save('tmp-1')"
      ],
      "execution_count": 0,
      "outputs": []
    },
    {
      "cell_type": "code",
      "metadata": {
        "id": "Y-UojnKO8jUn",
        "colab_type": "code",
        "colab": {}
      },
      "source": [
        "gpu_mem_get_free_no_cache()"
      ],
      "execution_count": 0,
      "outputs": []
    },
    {
      "cell_type": "code",
      "metadata": {
        "id": "tjlV0IEL8vVh",
        "colab_type": "code",
        "colab": {}
      },
      "source": [
        "## don't run this.. you have to restart...\n",
        "# learn.destroy()\n",
        "# gpu_mem_get_free_no_cache()\n",
        "# learn.load('tmp-1')"
      ],
      "execution_count": 0,
      "outputs": []
    },
    {
      "cell_type": "markdown",
      "metadata": {
        "id": "wypauBET85p-",
        "colab_type": "text"
      },
      "source": [
        "## Question\n",
        "Save & Load가 뭘까? destroy를 쓰면 다시 불러올 때 no longer usable이라고 뜬다 ㅠㅠ\n",
        "-> pth와 pickle의 차이는 뭘까?"
      ]
    },
    {
      "cell_type": "code",
      "metadata": {
        "id": "y-qsppJQ86WD",
        "colab_type": "code",
        "colab": {}
      },
      "source": [
        "doc(load_learner)"
      ],
      "execution_count": 0,
      "outputs": []
    },
    {
      "cell_type": "code",
      "metadata": {
        "id": "Dikn9_xt86hD",
        "colab_type": "code",
        "colab": {}
      },
      "source": [
        "learn.unfreeze()"
      ],
      "execution_count": 0,
      "outputs": []
    },
    {
      "cell_type": "markdown",
      "metadata": {
        "id": "frqSyDmM_sop",
        "colab_type": "text"
      },
      "source": [
        "## Question\n",
        "\n",
        "why this lr??"
      ]
    },
    {
      "cell_type": "code",
      "metadata": {
        "id": "aX5PZSTe_ot8",
        "colab_type": "code",
        "colab": {}
      },
      "source": [
        "lrs = slice(lr/400, lr/4)"
      ],
      "execution_count": 0,
      "outputs": []
    },
    {
      "cell_type": "code",
      "metadata": {
        "id": "4N__9-IF-FCR",
        "colab_type": "code",
        "colab": {
          "base_uri": "https://localhost:8080/",
          "height": 408
        },
        "outputId": "fc2cf934-82be-46b3-c824-72e18eeae601"
      },
      "source": [
        "# lr = 1.91E-06\n",
        "learn.fit_one_cycle(12, slice(lr, 3.31E-05), pct_start=0.8)"
      ],
      "execution_count": 26,
      "outputs": [
        {
          "output_type": "display_data",
          "data": {
            "text/html": [
              "<table border=\"1\" class=\"dataframe\">\n",
              "  <thead>\n",
              "    <tr style=\"text-align: left;\">\n",
              "      <th>epoch</th>\n",
              "      <th>train_loss</th>\n",
              "      <th>valid_loss</th>\n",
              "      <th>camvid_acc</th>\n",
              "      <th>time</th>\n",
              "    </tr>\n",
              "  </thead>\n",
              "  <tbody>\n",
              "    <tr>\n",
              "      <td>0</td>\n",
              "      <td>0.939345</td>\n",
              "      <td>0.884833</td>\n",
              "      <td>0.788744</td>\n",
              "      <td>00:01</td>\n",
              "    </tr>\n",
              "    <tr>\n",
              "      <td>1</td>\n",
              "      <td>0.928607</td>\n",
              "      <td>0.878709</td>\n",
              "      <td>0.790252</td>\n",
              "      <td>00:00</td>\n",
              "    </tr>\n",
              "    <tr>\n",
              "      <td>2</td>\n",
              "      <td>0.921385</td>\n",
              "      <td>0.869488</td>\n",
              "      <td>0.794353</td>\n",
              "      <td>00:01</td>\n",
              "    </tr>\n",
              "    <tr>\n",
              "      <td>3</td>\n",
              "      <td>0.918121</td>\n",
              "      <td>0.860181</td>\n",
              "      <td>0.797007</td>\n",
              "      <td>00:01</td>\n",
              "    </tr>\n",
              "    <tr>\n",
              "      <td>4</td>\n",
              "      <td>0.906267</td>\n",
              "      <td>0.860035</td>\n",
              "      <td>0.792772</td>\n",
              "      <td>00:00</td>\n",
              "    </tr>\n",
              "    <tr>\n",
              "      <td>5</td>\n",
              "      <td>0.902347</td>\n",
              "      <td>0.846095</td>\n",
              "      <td>0.795875</td>\n",
              "      <td>00:01</td>\n",
              "    </tr>\n",
              "    <tr>\n",
              "      <td>6</td>\n",
              "      <td>0.894921</td>\n",
              "      <td>0.831728</td>\n",
              "      <td>0.800781</td>\n",
              "      <td>00:00</td>\n",
              "    </tr>\n",
              "    <tr>\n",
              "      <td>7</td>\n",
              "      <td>0.885781</td>\n",
              "      <td>0.823409</td>\n",
              "      <td>0.802647</td>\n",
              "      <td>00:01</td>\n",
              "    </tr>\n",
              "    <tr>\n",
              "      <td>8</td>\n",
              "      <td>0.875647</td>\n",
              "      <td>0.818566</td>\n",
              "      <td>0.800699</td>\n",
              "      <td>00:00</td>\n",
              "    </tr>\n",
              "    <tr>\n",
              "      <td>9</td>\n",
              "      <td>0.863618</td>\n",
              "      <td>0.801180</td>\n",
              "      <td>0.808260</td>\n",
              "      <td>00:00</td>\n",
              "    </tr>\n",
              "    <tr>\n",
              "      <td>10</td>\n",
              "      <td>0.849428</td>\n",
              "      <td>0.795698</td>\n",
              "      <td>0.808184</td>\n",
              "      <td>00:00</td>\n",
              "    </tr>\n",
              "    <tr>\n",
              "      <td>11</td>\n",
              "      <td>0.833391</td>\n",
              "      <td>0.778095</td>\n",
              "      <td>0.812089</td>\n",
              "      <td>00:00</td>\n",
              "    </tr>\n",
              "  </tbody>\n",
              "</table>"
            ],
            "text/plain": [
              "<IPython.core.display.HTML object>"
            ]
          },
          "metadata": {
            "tags": []
          }
        }
      ]
    },
    {
      "cell_type": "code",
      "metadata": {
        "id": "rwCZcmikDdSv",
        "colab_type": "code",
        "colab": {}
      },
      "source": [
        "learn.save('tmp-2')"
      ],
      "execution_count": 0,
      "outputs": []
    },
    {
      "cell_type": "markdown",
      "metadata": {
        "id": "-6b8kO9k-ceK",
        "colab_type": "text"
      },
      "source": [
        "## Bigger"
      ]
    },
    {
      "cell_type": "code",
      "metadata": {
        "id": "KdKnxGzYAGQr",
        "colab_type": "code",
        "colab": {
          "base_uri": "https://localhost:8080/",
          "height": 35
        },
        "outputId": "3363e956-ca69-412d-d66c-4e2fe23b64c8"
      },
      "source": [
        "# reinitiate leaner # i forgot at the first divide src size...haha.. and i dont have to use small bs\n",
        "learn.destroy()\n",
        "data = src.transform(get_transforms(), size = src_size, tfm_y = True).databunch(bs=bs).normalize(imagenet_stats)"
      ],
      "execution_count": 28,
      "outputs": [
        {
          "output_type": "stream",
          "text": [
            "this Learner object self-destroyed - it still exists, but no longer usable\n"
          ],
          "name": "stdout"
        }
      ]
    },
    {
      "cell_type": "code",
      "metadata": {
        "id": "iOWcdL4HDhOc",
        "colab_type": "code",
        "colab": {}
      },
      "source": [
        "learn = unet_learner(data, models.resnet34, wd=wd, metrics=camvid_acc)\n",
        "learn.load('tmp-2')"
      ],
      "execution_count": 0,
      "outputs": []
    },
    {
      "cell_type": "code",
      "metadata": {
        "id": "G9EjkW5JAGe5",
        "colab_type": "code",
        "colab": {
          "base_uri": "https://localhost:8080/",
          "height": 553
        },
        "outputId": "b46ba7a1-79b8-481d-87f9-cec2ee394cee"
      },
      "source": [
        "learn.lr_find()\n",
        "learn.recorder.plot()"
      ],
      "execution_count": 30,
      "outputs": [
        {
          "output_type": "display_data",
          "data": {
            "text/html": [
              "\n",
              "    <div>\n",
              "        <style>\n",
              "            /* Turns off some styling */\n",
              "            progress {\n",
              "                /* gets rid of default border in Firefox and Opera. */\n",
              "                border: none;\n",
              "                /* Needs to be in here for Safari polyfill so background images work as expected. */\n",
              "                background-size: auto;\n",
              "            }\n",
              "            .progress-bar-interrupted, .progress-bar-interrupted::-webkit-progress-bar {\n",
              "                background: #F44336;\n",
              "            }\n",
              "        </style>\n",
              "      <progress value='6' class='' max='10', style='width:300px; height:20px; vertical-align: middle;'></progress>\n",
              "      60.00% [6/10 00:08<00:05]\n",
              "    </div>\n",
              "    \n",
              "<table border=\"1\" class=\"dataframe\">\n",
              "  <thead>\n",
              "    <tr style=\"text-align: left;\">\n",
              "      <th>epoch</th>\n",
              "      <th>train_loss</th>\n",
              "      <th>valid_loss</th>\n",
              "      <th>camvid_acc</th>\n",
              "      <th>time</th>\n",
              "    </tr>\n",
              "  </thead>\n",
              "  <tbody>\n",
              "    <tr>\n",
              "      <td>0</td>\n",
              "      <td>0.965994</td>\n",
              "      <td>#na#</td>\n",
              "      <td>00:03</td>\n",
              "    </tr>\n",
              "    <tr>\n",
              "      <td>1</td>\n",
              "      <td>0.958885</td>\n",
              "      <td>#na#</td>\n",
              "      <td>00:00</td>\n",
              "    </tr>\n",
              "    <tr>\n",
              "      <td>2</td>\n",
              "      <td>0.951652</td>\n",
              "      <td>#na#</td>\n",
              "      <td>00:00</td>\n",
              "    </tr>\n",
              "    <tr>\n",
              "      <td>3</td>\n",
              "      <td>0.932321</td>\n",
              "      <td>#na#</td>\n",
              "      <td>00:00</td>\n",
              "    </tr>\n",
              "    <tr>\n",
              "      <td>4</td>\n",
              "      <td>0.940863</td>\n",
              "      <td>#na#</td>\n",
              "      <td>00:00</td>\n",
              "    </tr>\n",
              "    <tr>\n",
              "      <td>5</td>\n",
              "      <td>1.620930</td>\n",
              "      <td>#na#</td>\n",
              "      <td>00:00</td>\n",
              "    </tr>\n",
              "  </tbody>\n",
              "</table><p>\n",
              "\n",
              "    <div>\n",
              "        <style>\n",
              "            /* Turns off some styling */\n",
              "            progress {\n",
              "                /* gets rid of default border in Firefox and Opera. */\n",
              "                border: none;\n",
              "                /* Needs to be in here for Safari polyfill so background images work as expected. */\n",
              "                background-size: auto;\n",
              "            }\n",
              "            .progress-bar-interrupted, .progress-bar-interrupted::-webkit-progress-bar {\n",
              "                background: #F44336;\n",
              "            }\n",
              "        </style>\n",
              "      <progress value='7' class='' max='10', style='width:300px; height:20px; vertical-align: middle;'></progress>\n",
              "      70.00% [7/10 00:00<00:00 1.9299]\n",
              "    </div>\n",
              "    "
            ],
            "text/plain": [
              "<IPython.core.display.HTML object>"
            ]
          },
          "metadata": {
            "tags": []
          }
        },
        {
          "output_type": "stream",
          "text": [
            "LR Finder is complete, type {learner_name}.recorder.plot() to see the graph.\n"
          ],
          "name": "stdout"
        },
        {
          "output_type": "display_data",
          "data": {
            "image/png": "[encoded data removed]",
            "text/plain": [
              "<Figure size 432x288 with 1 Axes>"
            ]
          },
          "metadata": {
            "tags": []
          }
        }
      ]
    },
    {
      "cell_type": "code",
      "metadata": {
        "id": "G2xpZ05TAGqg",
        "colab_type": "code",
        "colab": {
          "base_uri": "https://localhost:8080/",
          "height": 288
        },
        "outputId": "004e0258-f6af-4228-926c-d620b6694e0a"
      },
      "source": [
        "lr = 3e-03\n",
        "learn.fit_one_cycle(8, lr, pct_start=0.8)"
      ],
      "execution_count": 31,
      "outputs": [
        {
          "output_type": "display_data",
          "data": {
            "text/html": [
              "<table border=\"1\" class=\"dataframe\">\n",
              "  <thead>\n",
              "    <tr style=\"text-align: left;\">\n",
              "      <th>epoch</th>\n",
              "      <th>train_loss</th>\n",
              "      <th>valid_loss</th>\n",
              "      <th>camvid_acc</th>\n",
              "      <th>time</th>\n",
              "    </tr>\n",
              "  </thead>\n",
              "  <tbody>\n",
              "    <tr>\n",
              "      <td>0</td>\n",
              "      <td>1.038488</td>\n",
              "      <td>0.896004</td>\n",
              "      <td>0.795183</td>\n",
              "      <td>00:02</td>\n",
              "    </tr>\n",
              "    <tr>\n",
              "      <td>1</td>\n",
              "      <td>0.956682</td>\n",
              "      <td>0.818034</td>\n",
              "      <td>0.809187</td>\n",
              "      <td>00:01</td>\n",
              "    </tr>\n",
              "    <tr>\n",
              "      <td>2</td>\n",
              "      <td>0.972324</td>\n",
              "      <td>0.959327</td>\n",
              "      <td>0.774311</td>\n",
              "      <td>00:01</td>\n",
              "    </tr>\n",
              "    <tr>\n",
              "      <td>3</td>\n",
              "      <td>0.957666</td>\n",
              "      <td>1.098027</td>\n",
              "      <td>0.725378</td>\n",
              "      <td>00:01</td>\n",
              "    </tr>\n",
              "    <tr>\n",
              "      <td>4</td>\n",
              "      <td>0.953265</td>\n",
              "      <td>0.915497</td>\n",
              "      <td>0.792103</td>\n",
              "      <td>00:01</td>\n",
              "    </tr>\n",
              "    <tr>\n",
              "      <td>5</td>\n",
              "      <td>0.953108</td>\n",
              "      <td>0.848536</td>\n",
              "      <td>0.800550</td>\n",
              "      <td>00:01</td>\n",
              "    </tr>\n",
              "    <tr>\n",
              "      <td>6</td>\n",
              "      <td>0.938447</td>\n",
              "      <td>0.746676</td>\n",
              "      <td>0.824421</td>\n",
              "      <td>00:01</td>\n",
              "    </tr>\n",
              "    <tr>\n",
              "      <td>7</td>\n",
              "      <td>0.890706</td>\n",
              "      <td>0.734459</td>\n",
              "      <td>0.820047</td>\n",
              "      <td>00:01</td>\n",
              "    </tr>\n",
              "  </tbody>\n",
              "</table>"
            ],
            "text/plain": [
              "<IPython.core.display.HTML object>"
            ]
          },
          "metadata": {
            "tags": []
          }
        }
      ]
    },
    {
      "cell_type": "code",
      "metadata": {
        "id": "sBhZNMAGCXWq",
        "colab_type": "code",
        "colab": {}
      },
      "source": [
        "learn.save('bigger-1')\n",
        "learn.load('bigger-1')"
      ],
      "execution_count": 0,
      "outputs": []
    },
    {
      "cell_type": "code",
      "metadata": {
        "id": "q2KC01p2D9fa",
        "colab_type": "code",
        "colab": {
          "base_uri": "https://localhost:8080/",
          "height": 832
        },
        "outputId": "385cb783-be7e-4e18-9192-5923e1d4240b"
      },
      "source": [
        "lrs = slice(1e-6,lr/10)\n",
        "learn.unfreeze()\n",
        "learn.fit_one_cycle(10, lrs)\n",
        "learn.show_results(rows=2)"
      ],
      "execution_count": 33,
      "outputs": [
        {
          "output_type": "display_data",
          "data": {
            "text/html": [
              "<table border=\"1\" class=\"dataframe\">\n",
              "  <thead>\n",
              "    <tr style=\"text-align: left;\">\n",
              "      <th>epoch</th>\n",
              "      <th>train_loss</th>\n",
              "      <th>valid_loss</th>\n",
              "      <th>camvid_acc</th>\n",
              "      <th>time</th>\n",
              "    </tr>\n",
              "  </thead>\n",
              "  <tbody>\n",
              "    <tr>\n",
              "      <td>0</td>\n",
              "      <td>0.678964</td>\n",
              "      <td>0.720710</td>\n",
              "      <td>0.834964</td>\n",
              "      <td>00:01</td>\n",
              "    </tr>\n",
              "    <tr>\n",
              "      <td>1</td>\n",
              "      <td>0.660656</td>\n",
              "      <td>0.695742</td>\n",
              "      <td>0.833618</td>\n",
              "      <td>00:01</td>\n",
              "    </tr>\n",
              "    <tr>\n",
              "      <td>2</td>\n",
              "      <td>0.647027</td>\n",
              "      <td>0.675090</td>\n",
              "      <td>0.840018</td>\n",
              "      <td>00:01</td>\n",
              "    </tr>\n",
              "    <tr>\n",
              "      <td>3</td>\n",
              "      <td>0.644791</td>\n",
              "      <td>0.657200</td>\n",
              "      <td>0.835345</td>\n",
              "      <td>00:01</td>\n",
              "    </tr>\n",
              "    <tr>\n",
              "      <td>4</td>\n",
              "      <td>0.637825</td>\n",
              "      <td>0.687262</td>\n",
              "      <td>0.823947</td>\n",
              "      <td>00:01</td>\n",
              "    </tr>\n",
              "    <tr>\n",
              "      <td>5</td>\n",
              "      <td>0.630168</td>\n",
              "      <td>0.655579</td>\n",
              "      <td>0.840199</td>\n",
              "      <td>00:01</td>\n",
              "    </tr>\n",
              "    <tr>\n",
              "      <td>6</td>\n",
              "      <td>0.613188</td>\n",
              "      <td>0.654712</td>\n",
              "      <td>0.844893</td>\n",
              "      <td>00:01</td>\n",
              "    </tr>\n",
              "    <tr>\n",
              "      <td>7</td>\n",
              "      <td>0.596625</td>\n",
              "      <td>0.654658</td>\n",
              "      <td>0.845948</td>\n",
              "      <td>00:01</td>\n",
              "    </tr>\n",
              "    <tr>\n",
              "      <td>8</td>\n",
              "      <td>0.581589</td>\n",
              "      <td>0.647224</td>\n",
              "      <td>0.846836</td>\n",
              "      <td>00:01</td>\n",
              "    </tr>\n",
              "    <tr>\n",
              "      <td>9</td>\n",
              "      <td>0.570255</td>\n",
              "      <td>0.645893</td>\n",
              "      <td>0.847000</td>\n",
              "      <td>00:01</td>\n",
              "    </tr>\n",
              "  </tbody>\n",
              "</table>"
            ],
            "text/plain": [
              "<IPython.core.display.HTML object>"
            ]
          },
          "metadata": {
            "tags": []
          }
        },
        {
          "output_type": "display_data",
          "data": {
            "image/png": "[encoded data removed]",
            "text/plain": [
              "<Figure size 576x576 with 4 Axes>"
            ]
          },
          "metadata": {
            "tags": []
          }
        }
      ]
    }
  ]
}